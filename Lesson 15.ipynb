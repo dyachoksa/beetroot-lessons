{
 "metadata": {
  "language_info": {
   "codemirror_mode": {
    "name": "ipython",
    "version": 3
   },
   "file_extension": ".py",
   "mimetype": "text/x-python",
   "name": "python",
   "nbconvert_exporter": "python",
   "pygments_lexer": "ipython3",
   "version": "3.9.1-final"
  },
  "orig_nbformat": 2,
  "kernelspec": {
   "name": "python3",
   "display_name": "Python 3",
   "language": "python"
  }
 },
 "nbformat": 4,
 "nbformat_minor": 2,
 "cells": [
  {
   "cell_type": "code",
   "execution_count": 26,
   "metadata": {},
   "outputs": [
    {
     "output_type": "stream",
     "name": "stdout",
     "text": [
      "Isaiah Scott\nIsaiah Scott\n30\nisaiah.scott@example.com\n"
     ]
    }
   ],
   "source": [
    "import datetime as dt\n",
    "\n",
    "class Person:\n",
    "    def __init__(self, first_name, last_name, date_of_birth=None):\n",
    "        self.first_name = first_name\n",
    "        self.last_name = last_name\n",
    "        self.date_of_birth = date_of_birth\n",
    "        self._email = None\n",
    "    \n",
    "    @property\n",
    "    def email(self):\n",
    "        \"Person's email\"\n",
    "        return self._email\n",
    "    \n",
    "    @email.setter\n",
    "    def email(self, value):\n",
    "        if value is None or \"@\" not in value:\n",
    "            raise ValueError(\"Valid email is required\")\n",
    "\n",
    "        self._email = value\n",
    "    \n",
    "    @property\n",
    "    def full_name(self):\n",
    "        return self.get_full_name()\n",
    "\n",
    "    @property\n",
    "    def age(self):\n",
    "        if self.date_of_birth is None:\n",
    "            return None\n",
    "    \n",
    "        return (dt.date.today() - self.date_of_birth).days // 365\n",
    "\n",
    "    def get_full_name(self):\n",
    "        return f\"{self.first_name} {self.last_name}\"\n",
    "    \n",
    "    def has_email(self):\n",
    "        return self.email is not None\n",
    "\n",
    "isaiah = Person(\"Isaiah\", \"Scott\", dt.date(1990, 2, 2))\n",
    "\n",
    "print(isaiah.get_full_name())\n",
    "\n",
    "print(isaiah.full_name)\n",
    "print(isaiah.age)\n",
    "\n",
    "isaiah.email = \"isaiah.scott@example.com\"\n",
    "# isaiah.email = \"not_valid_email\"\n",
    "print(isaiah.email)\n",
    "\n",
    "# isaiah.last_name = \"Unknown\"\n",
    "# print(isaiah.full_name)"
   ]
  },
  {
   "cell_type": "code",
   "execution_count": 43,
   "metadata": {},
   "outputs": [
    {
     "output_type": "stream",
     "name": "stdout",
     "text": [
      "Shape of size 10\nClass of Shape\nClass of Shape\n"
     ]
    }
   ],
   "source": [
    "class Shape:\n",
    "    def __init__(self, size):\n",
    "        self.size = size\n",
    "\n",
    "    def __str__(self):\n",
    "        return f\"Shape of size {self.size}\"\n",
    "\n",
    "    @classmethod\n",
    "    def create(cls, size):\n",
    "        return cls(size)\n",
    "\n",
    "    @staticmethod\n",
    "    def class_name():\n",
    "        return \"Class of Shape\"\n",
    "\n",
    "# shape1 = Shape(10)\n",
    "shape1 = Shape.create(10)\n",
    "print(shape1)\n",
    "\n",
    "print(shape1.class_name())\n",
    "print(Shape.class_name())"
   ]
  }
 ]
}