{
 "nbformat": 4,
 "nbformat_minor": 2,
 "metadata": {
  "language_info": {
   "name": "python",
   "codemirror_mode": {
    "name": "ipython",
    "version": 3
   },
   "version": "3.8.2-final"
  },
  "orig_nbformat": 2,
  "file_extension": ".py",
  "mimetype": "text/x-python",
  "name": "python",
  "npconvert_exporter": "python",
  "pygments_lexer": "ipython3",
  "version": 3,
  "kernelspec": {
   "name": "python38164bitvenvvenvbc9c54e4b03748299873c01fdd6cefaf",
   "display_name": "Python 3.8.1 64-bit ('.venv': venv)"
  }
 },
 "cells": [
  {
   "cell_type": "code",
   "execution_count": 13,
   "metadata": {},
   "outputs": [
    {
     "output_type": "stream",
     "name": "stdout",
     "text": "['__annotations__', '__call__', '__class__', '__closure__', '__code__', '__defaults__', '__delattr__', '__dict__', '__dir__', '__doc__', '__eq__', '__format__', '__ge__', '__get__', '__getattribute__', '__globals__', '__gt__', '__hash__', '__init__', '__init_subclass__', '__kwdefaults__', '__le__', '__lt__', '__module__', '__name__', '__ne__', '__new__', '__qualname__', '__reduce__', '__reduce_ex__', '__repr__', '__setattr__', '__sizeof__', '__str__', '__subclasshook__']\n\n\n{'name': <class 'str'>}\ngreet\n\n\nco_argcount: 1\nco_cellvars: ()\nco_code: b'|\\x00p\\x06d\\x01}\\x01d\\x02}\\x02t\\x00d\\x03\\xa0\\x01|\\x01\\xa1\\x01\\x83\\x01\\x01\\x00d\\x00S\\x00'\nco_consts: (None, 'Sergey', 'D.', 'Hello, {}')\nco_filename: <ipython-input-13-11629d3d292d>\nco_firstlineno: 1\nco_flags: 8259\nco_freevars: ()\nco_kwonlyargcount: 0\nco_lnotab: b'\\x00\\x01\\x08\\x01\\x04\\x02'\nco_name: greet\nco_names: ('print', 'format')\nco_nlocals: 3\nco_posonlyargcount: 0\nco_stacksize: 4\nco_varnames: ('name', 'first_name', 'last_name')\n"
    }
   ],
   "source": [
    "def greet(name: str = None):\n",
    "    first_name = name or \"Sergey\"\n",
    "    last_name = \"D.\"\n",
    "\n",
    "    print(\"Hello, {}\".format(first_name))\n",
    "\n",
    "print(dir(greet))\n",
    "\n",
    "print(\"\\n\")\n",
    "\n",
    "print(greet.__annotations__)\n",
    "print(greet.__qualname__)\n",
    "\n",
    "print(\"\\n\")\n",
    "\n",
    "for item in dir(greet.__code__):\n",
    "    if not item.startswith(\"co_\"):\n",
    "        continue\n",
    "    \n",
    "    print(f\"{item}: {getattr(greet.__code__, item)}\")\n",
    ""
   ]
  },
  {
   "cell_type": "code",
   "execution_count": 6,
   "metadata": {},
   "outputs": [
    {
     "output_type": "stream",
     "name": "stdout",
     "text": "hello\nHello function\nHello, world!\n"
    }
   ],
   "source": [
    "def hello():\n",
    "    print(\"Hello, world!\")\n",
    "\n",
    "hello.verbose_name = \"Hello function\"\n",
    "\n",
    "print(hello.__name__)\n",
    "print(hello.verbose_name)\n",
    "hello()"
   ]
  },
  {
   "cell_type": "code",
   "execution_count": 8,
   "metadata": {},
   "outputs": [
    {
     "output_type": "stream",
     "name": "stdout",
     "text": "Hello, world!\nHello, world!\n"
    }
   ],
   "source": [
    "def double(func):\n",
    "    func()\n",
    "    func()\n",
    "\n",
    "double(hello)"
   ]
  },
  {
   "cell_type": "code",
   "execution_count": 11,
   "metadata": {},
   "outputs": [
    {
     "output_type": "execute_result",
     "data": {
      "text/plain": "<function __main__.add_two.<locals>.wrap()>"
     },
     "metadata": {},
     "execution_count": 11
    }
   ],
   "source": [
    "def add_two(func):\n",
    "    def wrap():\n",
    "        return func() + 2    \n",
    "    return wrap\n",
    "\n",
    "def get_10():\n",
    "    return 10\n",
    "\n",
    "new_func = add_two(get_10)\n",
    "\n",
    "new_func"
   ]
  },
  {
   "cell_type": "code",
   "execution_count": 23,
   "metadata": {},
   "outputs": [
    {
     "output_type": "stream",
     "name": "stdout",
     "text": "Level:  INFO  Func:  None\nLevel:  None  Func:  None\nFunc name: hello\nHelp on function hello in module __main__:\n\nhello()\n    Prints 'Hello, World!'\n\nFunc name: hello2\n"
    }
   ],
   "source": [
    "import functools\n",
    "\n",
    "def debug(_f=None, level=None):\n",
    "    print(\"Level: \", level, \" Func: \", _f)\n",
    "\n",
    "    def inner(f):\n",
    "        @functools.wraps(f)\n",
    "        def wrap(*args, **kwargs):\n",
    "            print(f\"Before {f.__name__}\")\n",
    "            res = f(*args, **kwargs)\n",
    "            print(f\"After {f.__name__}\")\n",
    "            return res\n",
    "        return wrap\n",
    "    \n",
    "    if _f is None:\n",
    "        return inner\n",
    "    else:\n",
    "        return inner(_f)\n",
    "\n",
    "# hello = debug(level=\"INFO\")(hello)\n",
    "\n",
    "@debug(level=\"INFO\")\n",
    "def hello():\n",
    "    \"\"\"Prints 'Hello, World!'\"\"\"\n",
    "    print(\"Hello, world!\")\n",
    "\n",
    "# hello2 = debug(hello2)\n",
    "\n",
    "@debug\n",
    "def hello2():\n",
    "    pass\n",
    "\n",
    "# hello()\n",
    "print(\"Func name:\", hello.__name__)\n",
    "# print(hello.__doc__)\n",
    "help(hello)\n",
    "\n",
    "print(\"Func name:\", hello2.__name__)"
   ]
  },
  {
   "cell_type": "code",
   "execution_count": 22,
   "metadata": {},
   "outputs": [
    {
     "output_type": "stream",
     "name": "stdout",
     "text": "Before greet\nAfter greet\nHello, Sergey\n"
    }
   ],
   "source": [
    "@debug\n",
    "def greet(name):\n",
    "    return f\"Hello, {name}\"\n",
    "\n",
    "print(greet(\"Sergey\"))"
   ]
  },
  {
   "cell_type": "code",
   "execution_count": 7,
   "metadata": {},
   "outputs": [
    {
     "output_type": "stream",
     "name": "stdout",
     "text": "Finished do_for_a_while in 4.50379 secs\n"
    }
   ],
   "source": [
    "import time\n",
    "\n",
    "def timer(f):\n",
    "    def wrapper(*args, **kwargs):\n",
    "        start_time = time.perf_counter()\n",
    "        \n",
    "        res = f(*args, **kwargs)\n",
    "\n",
    "        end_time = time.perf_counter()\n",
    "        run_time = end_time - start_time\n",
    "        \n",
    "        print(f\"Finished {f.__name__} in {run_time:.5f} secs\")\n",
    "\n",
    "        return res\n",
    "\n",
    "    return wrapper\n",
    "\n",
    "@timer\n",
    "def hello():\n",
    "    print(\"Hello, world!\")\n",
    "\n",
    "# hello()\n",
    "\n",
    "@timer\n",
    "def do_for_a_while():\n",
    "    for _ in range(1, 10):\n",
    "        time.sleep(.5)\n",
    "\n",
    "do_for_a_while()"
   ]
  },
  {
   "cell_type": "code",
   "execution_count": null,
   "metadata": {},
   "outputs": [],
   "source": []
  }
 ]
}