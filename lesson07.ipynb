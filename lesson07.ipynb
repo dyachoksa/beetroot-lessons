{
 "nbformat": 4,
 "nbformat_minor": 2,
 "metadata": {
  "language_info": {
   "name": "python",
   "codemirror_mode": {
    "name": "ipython",
    "version": 3
   },
   "version": "3.8.2-final"
  },
  "orig_nbformat": 2,
  "file_extension": ".py",
  "mimetype": "text/x-python",
  "name": "python",
  "npconvert_exporter": "python",
  "pygments_lexer": "ipython3",
  "version": 3,
  "kernelspec": {
   "name": "python38164bitvenvvenvbc9c54e4b03748299873c01fdd6cefaf",
   "display_name": "Python 3.8.1 64-bit ('.venv': venv)"
  }
 },
 "cells": [
  {
   "cell_type": "code",
   "execution_count": 48,
   "metadata": {},
   "outputs": [
    {
     "name": "stdout",
     "output_type": "stream",
     "text": "This is super private???\nHello, world!\nThis is private\n['_Note__text', '__class__', '__delattr__', '__dict__', '__dir__', '__doc__', '__eq__', '__format__', '__ge__', '__getattribute__', '__gt__', '__hash__', '__init__', '__init_subclass__', '__le__', '__lt__', '__module__', '__ne__', '__new__', '__reduce__', '__reduce_ex__', '__repr__', '__setattr__', '__sizeof__', '__str__', '__subclasshook__', '__weakref__', '_text', 'content', 'count', 'get_content', 'id', 'init', 'say_hello', 'set_content']\nThis is super private???\n"
    }
   ],
   "source": [
    "def say_hello(self):\n",
    "    print(\"Hello, world!\")\n",
    "\n",
    "class Note:\n",
    "    count = 1\n",
    "\n",
    "    say_hello = say_hello\n",
    "\n",
    "    def __init__(self, content=\"\"):\n",
    "        self._text = \"This is private\"\n",
    "        self.__text = \"This is super private???\"\n",
    "        self.content = content\n",
    "        # self.id = None\n",
    "        self.init()\n",
    "    \n",
    "    def __str__(self):\n",
    "        return self.__text\n",
    "    \n",
    "    def init(self):\n",
    "        self.id = 12\n",
    "    \n",
    "    def set_content(self, content):\n",
    "        self.content = content\n",
    "    \n",
    "    def get_content(self):\n",
    "        return self.content\n",
    "\n",
    "\n",
    "# note1 = Note(\"My note\")\n",
    "note2 = Note(\"Second note\")\n",
    "# note2.say_hello = say_hello\n",
    "\n",
    "print(note2)\n",
    "note2.say_hello()\n",
    "\n",
    "print(note2._text)\n",
    "\n",
    "print(dir(note2))\n",
    "\n",
    "print(note2._Note__text)\n",
    "\n",
    "# note1.init()\n",
    "# note1.set_content(\"My note\")\n",
    "# Note.count = 10\n",
    "# note1.count = 5\n",
    "# print(\"Count:\", Note.count)\n",
    "# print(\"Count:\", note1.count)\n",
    "\n",
    "# note2 = Note(\"Second note\")\n",
    "# print(\"Count:\", Note.count)\n",
    "\n",
    "# print(note1.get_content())\n",
    "# print(note2.get_content())"
   ]
  },
  {
   "cell_type": "code",
   "execution_count": 29,
   "metadata": {},
   "outputs": [
    {
     "name": "stdout",
     "output_type": "stream",
     "text": "<class '__main__.create_class.<locals>.Hello'>\nSergey 1\n<class '__main__.create_class.<locals>.Hello'>\nSergey 1\n<class '__main__.create_class.<locals>.Hello'>\nSergey 2\n"
    }
   ],
   "source": [
    "def create_class(name):\n",
    "    class Hello:\n",
    "        def say_hello(self):\n",
    "            print(self.__class__)\n",
    "            print(name)\n",
    "    \n",
    "    return Hello\n",
    "\n",
    "H1 = create_class(\"Sergey 1\")\n",
    "h1 = H1()\n",
    "h1.say_hello()\n",
    "\n",
    "H2 = create_class(\"Sergey 2\")\n",
    "h2 = H2()\n",
    "h2.say_hello()"
   ]
  },
  {
   "cell_type": "code",
   "execution_count": 31,
   "metadata": {},
   "outputs": [
    {
     "name": "stdout",
     "output_type": "stream",
     "text": "The Zen of Python, by Tim Peters\n\nBeautiful is better than ugly.\nExplicit is better than implicit.\nSimple is better than complex.\nComplex is better than complicated.\nFlat is better than nested.\nSparse is better than dense.\nReadability counts.\nSpecial cases aren't special enough to break the rules.\nAlthough practicality beats purity.\nErrors should never pass silently.\nUnless explicitly silenced.\nIn the face of ambiguity, refuse the temptation to guess.\nThere should be one-- and preferably only one --obvious way to do it.\nAlthough that way may not be obvious at first unless you're Dutch.\nNow is better than never.\nAlthough never is often better than *right* now.\nIf the implementation is hard to explain, it's a bad idea.\nIf the implementation is easy to explain, it may be a good idea.\nNamespaces are one honking great idea -- let's do more of those!\n"
    }
   ],
   "source": [
    "import this"
   ]
  },
  {
   "cell_type": "code",
   "execution_count": null,
   "metadata": {},
   "outputs": [],
   "source": []
  }
 ]
}