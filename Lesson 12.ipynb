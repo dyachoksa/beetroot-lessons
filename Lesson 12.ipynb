{
 "metadata": {
  "language_info": {
   "codemirror_mode": {
    "name": "ipython",
    "version": 3
   },
   "file_extension": ".py",
   "mimetype": "text/x-python",
   "name": "python",
   "nbconvert_exporter": "python",
   "pygments_lexer": "ipython3",
   "version": "3.9.1-final"
  },
  "orig_nbformat": 2,
  "kernelspec": {
   "name": "python3",
   "display_name": "Python 3",
   "language": "python"
  }
 },
 "nbformat": 4,
 "nbformat_minor": 2,
 "cells": [
  {
   "cell_type": "code",
   "execution_count": 67,
   "metadata": {},
   "outputs": [
    {
     "output_type": "stream",
     "name": "stdout",
     "text": [
      "Apple 14 by $ 1999\nPixel 7XL by $ 1899\n-8463210227017448886\n-1685210595983075147\n-1685210595983075147\nYou have two equal phones\n"
     ]
    }
   ],
   "source": [
    "import pprint\n",
    "\n",
    "class Product:\n",
    "    def __init__(self, name, price):\n",
    "        self.name = name\n",
    "        self.price = price\n",
    "\n",
    "    def __hash__(self):\n",
    "        return hash((self.name, self.price))\n",
    "    \n",
    "    def __eq__(self, other):\n",
    "        return self.name == other.name and self.price == other.price\n",
    "    \n",
    "    def __str__(self):\n",
    "        return self.name\n",
    "    \n",
    "    def __repr__(self):\n",
    "        return f\"<Product name={self.name} price={self.price}>\"\n",
    "    \n",
    "    def __bool__(self):\n",
    "        return self.name is not None and self.price > 0\n",
    "\n",
    "    def __setitem__(self, key, value):\n",
    "        setattr(self, key, value)\n",
    "    \n",
    "    def __getitem__(self, key):\n",
    "        # if key == 'name':\n",
    "        #     return self.name\n",
    "        # elif key == 'price':\n",
    "        #     return self.price\n",
    "        # else:\n",
    "        #     raise AttributeError(\"Unknown key\")\n",
    "\n",
    "        return getattr(self, key)\n",
    "    \n",
    "    def __call__(self, *args, **kwargs):\n",
    "        print(\"Do you realy want to run me as a function?\")\n",
    "\n",
    "    def __add__(self, other):\n",
    "        if not isinstance(other, int):\n",
    "            raise ValueError(\"Can't add non-integer values\")\n",
    "\n",
    "        self.price += other\n",
    "\n",
    "        return self\n",
    "    \n",
    "    def get_name(self):\n",
    "        return self.name\n",
    "\n",
    "empty_product = Product(None, 0)\n",
    "\n",
    "apple_phone = Product(\"Apple 14\", 1999)\n",
    "print(apple_phone.name, \"by $\", apple_phone.price,)\n",
    "\n",
    "google_phone = Product(\"Pixel 7XL\", 1899)\n",
    "print(google_phone.name, \"by $\", google_phone.price,)\n",
    "\n",
    "google_phone2 = Product(\"Pixel 7XL\", 1899)\n",
    "\n",
    "print(hash(apple_phone))\n",
    "print(hash(google_phone))\n",
    "print(hash(google_phone2))\n",
    "\n",
    "# apple_phone.__eq__(google_phone)\n",
    "if google_phone2 == google_phone:\n",
    "    print(\"You have two equal phones\")\n",
    "else:\n",
    "    print(\"Phones are different\")\n",
    "\n",
    "# pprint.pprint(dir(phone))"
   ]
  },
  {
   "cell_type": "code",
   "execution_count": 26,
   "metadata": {},
   "outputs": [
    {
     "output_type": "stream",
     "name": "stdout",
     "text": [
      "Just print: Apple 14\nUsing str: Apple 14\nUsing repr: <Product name=Apple 14 price=1999>\n"
     ]
    }
   ],
   "source": [
    "print(\"Just print:\", apple_phone)\n",
    "print(\"Using str:\", str(apple_phone))\n",
    "print(\"Using repr:\", repr(apple_phone))"
   ]
  },
  {
   "cell_type": "code",
   "execution_count": 38,
   "metadata": {},
   "outputs": [
    {
     "output_type": "stream",
     "name": "stdout",
     "text": [
      "Product is not defined\n"
     ]
    }
   ],
   "source": [
    "if empty_product:\n",
    "    print(\"Product is defined\")\n",
    "else:\n",
    "    print(\"Product is not defined\")"
   ]
  },
  {
   "cell_type": "code",
   "execution_count": 70,
   "metadata": {},
   "outputs": [
    {
     "output_type": "stream",
     "name": "stdout",
     "text": [
      "Using as a dict:\nPixel 7XL by $1899\nTrue\n"
     ]
    }
   ],
   "source": [
    "print(\"Using as a dict:\")\n",
    "print(\"{} by ${}\".format(google_phone['name'], google_phone['price']))\n",
    "\n",
    "# google_phone.name = \"Goooogle!!!\"\n",
    "# google_phone['name']\n",
    "\n",
    "# google_phone['name'] = \"Google Phone\"\n",
    "# print(google_phone.name)\n",
    "\n",
    "# google_phone.__setitem__(\"in_stock\", True)\n",
    "google_phone[\"in_stock\"] = True\n",
    "\n",
    "# google_phone.in_stock = True\n",
    "\n",
    "print(google_phone.in_stock)\n"
   ]
  },
  {
   "cell_type": "code",
   "execution_count": 50,
   "metadata": {},
   "outputs": [
    {
     "output_type": "stream",
     "name": "stdout",
     "text": [
      "Object like function:\nDo you realy want to run me as a function?\n"
     ]
    }
   ],
   "source": [
    "print(\"Object like function:\")\n",
    "apple_phone()"
   ]
  },
  {
   "cell_type": "code",
   "execution_count": 54,
   "metadata": {},
   "outputs": [
    {
     "output_type": "stream",
     "name": "stdout",
     "text": [
      "Numeric operations:\n<Product name=Pixel 7XL price=1999>\n<Product name=Pixel 7XL price=2049>\n"
     ]
    }
   ],
   "source": [
    "print(\"Numeric operations:\")\n",
    "print(repr(google_phone))\n",
    "\n",
    "# google_phone.__add__(50)\n",
    "google_phone = google_phone + 50\n",
    "\n",
    "print(repr(google_phone))"
   ]
  }
 ]
}