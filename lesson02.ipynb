{
 "nbformat": 4,
 "nbformat_minor": 2,
 "metadata": {
  "language_info": {
   "name": "python",
   "codemirror_mode": {
    "name": "ipython",
    "version": 3
   },
   "version": "3.8.1-final"
  },
  "orig_nbformat": 2,
  "file_extension": ".py",
  "mimetype": "text/x-python",
  "name": "python",
  "npconvert_exporter": "python",
  "pygments_lexer": "ipython3",
  "version": 3,
  "kernelspec": {
   "name": "python38164bitvenvvenvbc9c54e4b03748299873c01fdd6cefaf",
   "display_name": "Python 3.8.1 64-bit ('.venv': venv)"
  }
 },
 "cells": [
  {
   "cell_type": "code",
   "execution_count": null,
   "metadata": {},
   "outputs": [],
   "source": [
    "import random\n",
    "lst2 = random.sample(range(5, 15), 10)\n",
    "lst3 = random.sample(range(0, 10), 10)\n",
    "print(lst2)\n",
    "print(lst3)\n",
    "\n",
    "lst4 = list(set(lst2 + lst3))\n",
    "\n",
    "# lst4 = []\n",
    "# for q in lst2:\n",
    "#     for w in lst3:\n",
    "#         if q == w:\n",
    "#             lst4.append(q)\n",
    "#             break\n",
    "print(lst4)"
   ]
  },
  {
   "cell_type": "code",
   "execution_count": null,
   "metadata": {},
   "outputs": [],
   "source": [
    "a = 1\n",
    "hex(id(a))"
   ]
  },
  {
   "cell_type": "code",
   "execution_count": null,
   "metadata": {},
   "outputs": [],
   "source": [
    "import this"
   ]
  },
  {
   "cell_type": "code",
   "execution_count": 45,
   "metadata": {},
   "outputs": [
    {
     "data": {
      "text/plain": "False"
     },
     "execution_count": 45,
     "metadata": {},
     "output_type": "execute_result"
    }
   ],
   "source": [
    "s1 = \"s1\"\n",
    "s2 = \"s2\"\n",
    "b1 = bytes(\"a\".encode(\"cp1251\"))\n",
    "s3 = None\n",
    "\n",
    "s1 = \"a\"\n",
    "b1 = b\"a\"\n",
    "s1 == 1"
   ]
  },
  {
   "cell_type": "code",
   "execution_count": 41,
   "metadata": {},
   "outputs": [
    {
     "name": "stdout",
     "output_type": "stream",
     "text": "Hello, World!\n0x7f6db1f508b0\nHello. World!\n0x7f6db1f4bd30\n"
    }
   ],
   "source": [
    "str1 = \"Hello, World!\"\n",
    "print(str1)\n",
    "print(hex(id(str1)))\n",
    "\n",
    "str1 = str1[:5] + \".\" + str[6:]\n",
    "print(str1)\n",
    "print(hex(id(str1)))"
   ]
  },
  {
   "cell_type": "code",
   "execution_count": 6,
   "metadata": {},
   "outputs": [
    {
     "name": "stdout",
     "output_type": "stream",
     "text": "s1\n"
    }
   ],
   "source": [
    "s4 = s1 or s2\n",
    "print(s4)"
   ]
  },
  {
   "cell_type": "code",
   "execution_count": 8,
   "metadata": {},
   "outputs": [
    {
     "name": "stdout",
     "output_type": "stream",
     "text": "s2\n"
    }
   ],
   "source": [
    "s5 = s3 or s2\n",
    "print(s5)"
   ]
  },
  {
   "cell_type": "code",
   "execution_count": 9,
   "metadata": {},
   "outputs": [
    {
     "name": "stdout",
     "output_type": "stream",
     "text": "default\n"
    }
   ],
   "source": [
    "s6 = s3 or \"default\"\n",
    "print(s6)"
   ]
  },
  {
   "cell_type": "code",
   "execution_count": 10,
   "metadata": {},
   "outputs": [
    {
     "name": "stdout",
     "output_type": "stream",
     "text": "s2\n"
    }
   ],
   "source": [
    "s7 = s1 and s2\n",
    "print(s7)"
   ]
  },
  {
   "cell_type": "code",
   "execution_count": 11,
   "metadata": {},
   "outputs": [],
   "source": [
    "s8 = False"
   ]
  },
  {
   "cell_type": "code",
   "execution_count": 12,
   "metadata": {},
   "outputs": [
    {
     "name": "stdout",
     "output_type": "stream",
     "text": "False\n"
    }
   ],
   "source": [
    "s9 = s8 and s1\n",
    "print(s9)"
   ]
  },
  {
   "cell_type": "code",
   "execution_count": 20,
   "metadata": {},
   "outputs": [
    {
     "name": "stdout",
     "output_type": "stream",
     "text": "1\n"
    }
   ],
   "source": [
    "if type(s1) == str:\n",
    "    print(\"1\")"
   ]
  },
  {
   "cell_type": "code",
   "execution_count": null,
   "metadata": {},
   "outputs": [],
   "source": []
  }
 ]
}