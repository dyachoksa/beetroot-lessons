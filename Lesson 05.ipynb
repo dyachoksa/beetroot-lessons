{
 "cells": [
  {
   "cell_type": "code",
   "execution_count": 1,
   "metadata": {},
   "outputs": [
    {
     "name": "stdout",
     "output_type": "stream",
     "text": [
      "[]\n",
      "[1, 2, 5, 30, 3, 2, 5, 6]\n",
      "['Hello', 10, 3.1415, False, None, True, [0, 1, 0, 1, 0]]\n"
     ]
    }
   ],
   "source": [
    "list1 = []\n",
    "list_numbers = [1, 2, 5, 30, 3, 2, 5, 6]\n",
    "list_mix = [\"Hello\", 10, 3.1415, False, None, True, [0, 1, 0, 1, 0]]\n",
    "\n",
    "print(list1)\n",
    "print(list_numbers)\n",
    "print(list_mix)"
   ]
  },
  {
   "cell_type": "code",
   "execution_count": 2,
   "metadata": {},
   "outputs": [
    {
     "name": "stdout",
     "output_type": "stream",
     "text": [
      "5\n",
      "Hello\n",
      "[5, 6]\n",
      "[1, 5, 3, 5]\n"
     ]
    }
   ],
   "source": [
    "print(list_numbers[2])\n",
    "print(list_mix[0])\n",
    "print(list_numbers[-2:])\n",
    "print(list_numbers[::2])"
   ]
  },
  {
   "cell_type": "code",
   "execution_count": 3,
   "metadata": {},
   "outputs": [
    {
     "name": "stdout",
     "output_type": "stream",
     "text": [
      "[]\n",
      "['A Value', 'B Value', 'C Value']\n"
     ]
    }
   ],
   "source": [
    "list1 = []\n",
    "\n",
    "print(list1)\n",
    "\n",
    "list1.append(\"A Value\")\n",
    "list1.append(\"B Value\")\n",
    "list1.append(\"C Value\")\n",
    "\n",
    "print(list1)"
   ]
  },
  {
   "cell_type": "code",
   "execution_count": 4,
   "metadata": {},
   "outputs": [
    {
     "name": "stdout",
     "output_type": "stream",
     "text": [
      "['A Value', 'C Value']\n"
     ]
    }
   ],
   "source": [
    "del list1[1]\n",
    "print(list1)"
   ]
  },
  {
   "cell_type": "code",
   "execution_count": 5,
   "metadata": {},
   "outputs": [
    {
     "name": "stdout",
     "output_type": "stream",
     "text": [
      "['A Value']\n"
     ]
    }
   ],
   "source": [
    "list1.pop()\n",
    "print(list1)"
   ]
  },
  {
   "cell_type": "code",
   "execution_count": 36,
   "metadata": {},
   "outputs": [
    {
     "name": "stdout",
     "output_type": "stream",
     "text": [
      "['D Value', 'A', 'B', 'C', 'D']\n"
     ]
    }
   ],
   "source": [
    "list1.insert(0, \"D Value\")\n",
    "print(list1)"
   ]
  },
  {
   "cell_type": "code",
   "execution_count": 39,
   "metadata": {},
   "outputs": [
    {
     "name": "stdout",
     "output_type": "stream",
     "text": [
      "[0, 0, 0, 0, 0, 0, 0, 0, 0, 0, 0, 0, 0, 0, 0, 0, 0, 0, 0, 0, 0, 0, 0, 0, 0, 0, 0, 0, 0, 0, 0, 0, 0, 0, 0, 0, 0, 0, 0, 0, 0, 0, 0, 0, 0, 0, 0, 0, 0, 0, 0, 0, 0, 0, 0, 0, 0, 0, 0, 0, 0, 0, 0, 0, 0, 0, 0, 0, 0, 0, 0, 0, 0, 0, 0, 0, 0, 0, 0, 0, 0, 0, 0, 0, 0, 0, 0, 0, 0, 0, 0, 0, 0, 0, 0, 0, 0, 0, 0, 0]\n"
     ]
    }
   ],
   "source": [
    "new_list = [0] * 100\n",
    "print(new_list)"
   ]
  },
  {
   "cell_type": "code",
   "execution_count": 41,
   "metadata": {},
   "outputs": [
    {
     "name": "stdout",
     "output_type": "stream",
     "text": [
      "['a', 'b', 'c', 'd', 'e']\n",
      "['a', 'b', 'c', 'd', 'e']\n"
     ]
    }
   ],
   "source": [
    "list_a = [\"a\", \"b\", \"c\"]\n",
    "list_b = [\"d\", \"e\"]\n",
    "\n",
    "print(list_a + list_b)\n",
    "\n",
    "list_a += list_b\n",
    "# list_a = list_a + list_b\n",
    "print(list_a)"
   ]
  },
  {
   "cell_type": "code",
   "execution_count": 10,
   "metadata": {},
   "outputs": [
    {
     "name": "stdout",
     "output_type": "stream",
     "text": [
      "('Ukraine',)\n",
      "('Ukraine', 38000000)\n"
     ]
    }
   ],
   "source": [
    "country = (\"Ukraine\",)\n",
    "print(country)\n",
    "\n",
    "country_with_population = (\"Ukraine\", 38_000_000)\n",
    "print(country_with_population)"
   ]
  },
  {
   "cell_type": "code",
   "execution_count": 52,
   "metadata": {},
   "outputs": [
    {
     "name": "stdout",
     "output_type": "stream",
     "text": [
      "Ukraine\n"
     ]
    }
   ],
   "source": [
    "print(country_with_population[0])"
   ]
  },
  {
   "cell_type": "code",
   "execution_count": 53,
   "metadata": {},
   "outputs": [
    {
     "name": "stdout",
     "output_type": "stream",
     "text": [
      "['__add__', '__class__', '__class_getitem__', '__contains__', '__delattr__', '__dir__', '__doc__', '__eq__', '__format__', '__ge__', '__getattribute__', '__getitem__', '__getnewargs__', '__gt__', '__hash__', '__init__', '__init_subclass__', '__iter__', '__le__', '__len__', '__lt__', '__mul__', '__ne__', '__new__', '__reduce__', '__reduce_ex__', '__repr__', '__rmul__', '__setattr__', '__sizeof__', '__str__', '__subclasshook__', 'count', 'index']\n"
     ]
    }
   ],
   "source": [
    "print(dir(country))"
   ]
  },
  {
   "cell_type": "code",
   "execution_count": 51,
   "metadata": {
    "scrolled": true
   },
   "outputs": [
    {
     "ename": "TypeError",
     "evalue": "'tuple' object doesn't support item deletion",
     "output_type": "error",
     "traceback": [
      "\u001b[1;31m---------------------------------------------------------------------------\u001b[0m",
      "\u001b[1;31mTypeError\u001b[0m                                 Traceback (most recent call last)",
      "\u001b[1;32m<ipython-input-51-5d1e14b26b13>\u001b[0m in \u001b[0;36m<module>\u001b[1;34m\u001b[0m\n\u001b[1;32m----> 1\u001b[1;33m \u001b[1;32mdel\u001b[0m \u001b[0mcountry\u001b[0m\u001b[1;33m[\u001b[0m\u001b[1;36m0\u001b[0m\u001b[1;33m]\u001b[0m\u001b[1;33m\u001b[0m\u001b[1;33m\u001b[0m\u001b[0m\n\u001b[0m\u001b[0;32m      2\u001b[0m \u001b[1;31m# country.append(\"Sweden\")\u001b[0m\u001b[1;33m\u001b[0m\u001b[1;33m\u001b[0m\u001b[1;33m\u001b[0m\u001b[0m\n",
      "\u001b[1;31mTypeError\u001b[0m: 'tuple' object doesn't support item deletion"
     ]
    }
   ],
   "source": [
    "del country[0]\n",
    "# country.append(\"Sweden\")"
   ]
  },
  {
   "cell_type": "code",
   "execution_count": 19,
   "metadata": {},
   "outputs": [
    {
     "name": "stdout",
     "output_type": "stream",
     "text": [
      "('A', 'B', 'C') 2920006641024\n",
      "['A', 'B', 'C'] 2920007932288\n",
      "('A', 'B', 'C', 'D') 2920007157056\n",
      "['A', 'B', 'C', 'D'] 2920007932288\n"
     ]
    }
   ],
   "source": [
    "tuple1 = (\"A\", \"B\", \"C\")\n",
    "list1 = list(tuple1)\n",
    "\n",
    "print(tuple1, id(tuple1))\n",
    "print(list1, id(list1))\n",
    "\n",
    "list1.append(\"D\")\n",
    "tuple1 = tuple(list1)\n",
    "\n",
    "print(tuple1, id(tuple1))\n",
    "print(list1, id(list1))"
   ]
  },
  {
   "cell_type": "code",
   "execution_count": 35,
   "metadata": {},
   "outputs": [
    {
     "name": "stdout",
     "output_type": "stream",
     "text": [
      "<class 'set'>\n",
      "{1, 5, 6}\n",
      "{1, 2, 3, 5, 6}\n",
      "5\n"
     ]
    }
   ],
   "source": [
    "uniq_numbers = {1, 5, 6}\n",
    "print(type(uniq_numbers))\n",
    "print(uniq_numbers)\n",
    "\n",
    "uniq_numbers.add(2)\n",
    "uniq_numbers.add(3)\n",
    "uniq_numbers.add(1)\n",
    "uniq_numbers.add(5)\n",
    "\n",
    "print(uniq_numbers)\n",
    "print(len(uniq_numbers))"
   ]
  },
  {
   "cell_type": "code",
   "execution_count": 32,
   "metadata": {},
   "outputs": [
    {
     "name": "stdout",
     "output_type": "stream",
     "text": [
      "[1, 2, 5, 30, 3, 2, 5, 6]\n",
      "[1, 2, 3, 5, 6, 30]\n"
     ]
    }
   ],
   "source": [
    "print(list_numbers)\n",
    "\n",
    "list_numbers = list(set(list_numbers))\n",
    "\n",
    "print(list_numbers)"
   ]
  },
  {
   "cell_type": "code",
   "execution_count": 43,
   "metadata": {},
   "outputs": [
    {
     "name": "stdout",
     "output_type": "stream",
     "text": [
      "['__and__', '__class__', '__class_getitem__', '__contains__', '__delattr__', '__dir__', '__doc__', '__eq__', '__format__', '__ge__', '__getattribute__', '__gt__', '__hash__', '__iand__', '__init__', '__init_subclass__', '__ior__', '__isub__', '__iter__', '__ixor__', '__le__', '__len__', '__lt__', '__ne__', '__new__', '__or__', '__rand__', '__reduce__', '__reduce_ex__', '__repr__', '__ror__', '__rsub__', '__rxor__', '__setattr__', '__sizeof__', '__str__', '__sub__', '__subclasshook__', '__xor__', 'add', 'clear', 'copy', 'difference', 'difference_update', 'discard', 'intersection', 'intersection_update', 'isdisjoint', 'issubset', 'issuperset', 'pop', 'remove', 'symmetric_difference', 'symmetric_difference_update', 'union', 'update']\n"
     ]
    }
   ],
   "source": [
    "print(dir(uniq_numbers))"
   ]
  },
  {
   "cell_type": "code",
   "execution_count": 54,
   "metadata": {},
   "outputs": [
    {
     "name": "stdout",
     "output_type": "stream",
     "text": [
      "Sergey\n",
      "['S', 'e', 'r', 'g', 'e', 'y']\n",
      "Sergey\n"
     ]
    }
   ],
   "source": [
    "name = \"Sergey\"\n",
    "letters = list(name)\n",
    "\n",
    "print(name)\n",
    "print(letters)\n",
    "\n",
    "print(\"\".join(letters))"
   ]
  },
  {
   "cell_type": "code",
   "execution_count": 56,
   "metadata": {},
   "outputs": [
    {
     "name": "stdout",
     "output_type": "stream",
     "text": [
      "(((((1,),),),),)\n"
     ]
    }
   ],
   "source": [
    "print(((((((1),),),),),))"
   ]
  }
 ],
 "metadata": {
  "kernelspec": {
   "display_name": "Python 3",
   "language": "python",
   "name": "python3"
  },
  "language_info": {
   "codemirror_mode": {
    "name": "ipython",
    "version": 3
   },
   "file_extension": ".py",
   "mimetype": "text/x-python",
   "name": "python",
   "nbconvert_exporter": "python",
   "pygments_lexer": "ipython3",
   "version": "3.9.1"
  }
 },
 "nbformat": 4,
 "nbformat_minor": 4
}
