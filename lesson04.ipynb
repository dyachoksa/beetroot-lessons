{
 "nbformat": 4,
 "nbformat_minor": 2,
 "metadata": {
  "language_info": {
   "name": "python",
   "codemirror_mode": {
    "name": "ipython",
    "version": 3
   },
   "version": "3.8.1-final"
  },
  "orig_nbformat": 2,
  "file_extension": ".py",
  "mimetype": "text/x-python",
  "name": "python",
  "npconvert_exporter": "python",
  "pygments_lexer": "ipython3",
  "version": 3,
  "kernelspec": {
   "name": "python38164bitvenvvenvbc9c54e4b03748299873c01fdd6cefaf",
   "display_name": "Python 3.8.1 64-bit ('.venv': venv)"
  }
 },
 "cells": [
  {
   "cell_type": "code",
   "execution_count": 25,
   "metadata": {},
   "outputs": [
    {
     "name": "stdout",
     "output_type": "stream",
     "text": "1212\nNo args function\ns\n"
    }
   ],
   "source": [
    "x = 1212\n",
    "\n",
    "def noargs():\n",
    "    \"\"\"Test function\n",
    "    \n",
    "    This is simple function\n",
    "    \"\"\"\n",
    "    global x\n",
    "    x = \"s\"\n",
    "\n",
    "    def inner():\n",
    "        pass\n",
    "\n",
    "    print(\"No args function\")\n",
    "    return True\n",
    "\n",
    "print(x)\n",
    "noargs()\n",
    "print(x)"
   ]
  },
  {
   "cell_type": "code",
   "execution_count": 2,
   "metadata": {},
   "outputs": [
    {
     "name": "stdout",
     "output_type": "stream",
     "text": "Position-only arguments: hello 18\n"
    }
   ],
   "source": [
    "def position_only(one, two):\n",
    "    print(\"Position-only arguments:\", one, two)\n",
    "\n",
    "position_only(\"hello\", 18)"
   ]
  },
  {
   "cell_type": "code",
   "execution_count": null,
   "metadata": {},
   "outputs": [],
   "source": [
    "@app.route(\"/\")\n",
    "@app.route(\"/<page>\")\n",
    "def keyword_only(page=\"home\"):\n",
    "    print(\"Keyword-only arguments:\", one, two)\n",
    "\n",
    "keyword_only(\"about\")"
   ]
  },
  {
   "cell_type": "code",
   "execution_count": 6,
   "metadata": {},
   "outputs": [
    {
     "name": "stdout",
     "output_type": "stream",
     "text": "Mixed args function: hello two False\n"
    }
   ],
   "source": [
    "def mixed_args(one, two=\"two\", three=None):\n",
    "    print(\"Mixed args function:\", one, two, three)\n",
    "\n",
    "mixed_args(\"hello\", three=False)"
   ]
  },
  {
   "cell_type": "code",
   "execution_count": 26,
   "metadata": {},
   "outputs": [
    {
     "name": "stdout",
     "output_type": "stream",
     "text": "Help on built-in function max in module builtins:\n\nmax(...)\n    max(iterable, *[, default=obj, key=func]) -> value\n    max(arg1, arg2, *args, *[, key=func]) -> value\n    \n    With a single iterable argument, return its biggest item. The\n    default keyword-only argument specifies an object to return if\n    the provided iterable is empty.\n    With two or more arguments, return the largest argument.\n\n"
    }
   ],
   "source": [
    "help(max)"
   ]
  },
  {
   "cell_type": "code",
   "execution_count": 8,
   "metadata": {},
   "outputs": [
    {
     "name": "stdout",
     "output_type": "stream",
     "text": "Variable position arguments: ('hello',)\nVariable position arguments: ('hello', 18)\nVariable position arguments: ()\nVariable position arguments: (['hello', 18],)\nVariable position arguments: ('hello', 18)\n"
    }
   ],
   "source": [
    "def variable_position(*args):\n",
    "    print(\"Variable position arguments:\", args)\n",
    "\n",
    "variable_position(\"hello\")\n",
    "variable_position(\"hello\", 18)\n",
    "variable_position()\n",
    "variable_position([\"hello\", 18])\n",
    "variable_position(*[\"hello\", 18])"
   ]
  },
  {
   "cell_type": "code",
   "execution_count": 10,
   "metadata": {},
   "outputs": [
    {
     "name": "stdout",
     "output_type": "stream",
     "text": "Variable keyword arguments: {'one': 'hello'}\nVariable keyword arguments: {'one': 'hello', 'two': 18}\nVariable keyword arguments: {}\nVariable keyword arguments: {'one': 'hello', 'two': 18}\n"
    }
   ],
   "source": [
    "def variable_kwords(**kwargs):\n",
    "    print(\"Variable keyword arguments:\", kwargs)\n",
    "\n",
    "variable_kwords(one=\"hello\")\n",
    "variable_kwords(one=\"hello\", two=18)\n",
    "variable_kwords()\n",
    "variable_kwords(**{\"one\": \"hello\", \"two\": 18})"
   ]
  }
 ]
}