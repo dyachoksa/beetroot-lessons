{
 "metadata": {
  "language_info": {
   "codemirror_mode": {
    "name": "ipython",
    "version": 3
   },
   "file_extension": ".py",
   "mimetype": "text/x-python",
   "name": "python",
   "nbconvert_exporter": "python",
   "pygments_lexer": "ipython3",
   "version": "3.9.1-final"
  },
  "orig_nbformat": 2,
  "kernelspec": {
   "name": "python3",
   "display_name": "Python 3",
   "language": "python"
  }
 },
 "nbformat": 4,
 "nbformat_minor": 2,
 "cells": [
  {
   "cell_type": "code",
   "execution_count": 8,
   "metadata": {},
   "outputs": [
    {
     "output_type": "stream",
     "name": "stdout",
     "text": [
      "Circle\nLength: 62.83185307179586\nSquare\nLength: 40\nLength: 0\n"
     ]
    }
   ],
   "source": [
    "import math\n",
    "\n",
    "\n",
    "class Shape:\n",
    "    def __init__(self, size):\n",
    "        self.size = size\n",
    "        self.name = \"Shape\"\n",
    "\n",
    "    def get_name(self):\n",
    "        return self.name\n",
    "\n",
    "    def make_double_size(self):\n",
    "        self.size *= 2\n",
    "    \n",
    "    def length(self):\n",
    "        return self.size\n",
    "\n",
    "\n",
    "class Circle(Shape):\n",
    "    def __init__(self, radius):\n",
    "        super().__init__(radius)\n",
    "\n",
    "        self.name = \"Circle\"\n",
    "\n",
    "    def length(self):\n",
    "        return 2 * math.pi * self.size\n",
    "\n",
    "class Square(Shape):\n",
    "    def __init__(self, radius):\n",
    "        super().__init__(radius)\n",
    "\n",
    "        self.name = \"Square\"\n",
    "\n",
    "    def length(self):\n",
    "        return 4 * self.size\n",
    "\n",
    "    def make_zero(self):\n",
    "        self.size = 0\n",
    "\n",
    "c = Circle(10)\n",
    "s = Square(5)\n",
    "\n",
    "print(c.get_name())\n",
    "print(\"Length:\", c.length())\n",
    "\n",
    "print(s.get_name())\n",
    "s.make_double_size()\n",
    "print(\"Length:\", s.length())\n",
    "s.make_zero()\n",
    "print(\"Length:\", s.length())\n",
    "\n"
   ]
  }
 ]
}