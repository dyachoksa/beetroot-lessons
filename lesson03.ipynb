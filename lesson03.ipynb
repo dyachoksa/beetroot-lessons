{
 "nbformat": 4,
 "nbformat_minor": 2,
 "metadata": {
  "language_info": {
   "name": "python",
   "codemirror_mode": {
    "name": "ipython",
    "version": 3
   },
   "version": "3.8.1-final"
  },
  "orig_nbformat": 2,
  "file_extension": ".py",
  "mimetype": "text/x-python",
  "name": "python",
  "npconvert_exporter": "python",
  "pygments_lexer": "ipython3",
  "version": 3,
  "kernelspec": {
   "name": "python38164bitvenvvenvbc9c54e4b03748299873c01fdd6cefaf",
   "display_name": "Python 3.8.1 64-bit ('.venv': venv)"
  }
 },
 "cells": [
  {
   "cell_type": "code",
   "execution_count": 92,
   "metadata": {},
   "outputs": [
    {
     "name": "stdout",
     "output_type": "stream",
     "text": "['s1s1', 's2s2', 's3s3']\n['s1s1s1s1', 's2s2s2s2', 's3s3s3s3']\n"
    }
   ],
   "source": [
    "l1 = [1, 2, 3]\n",
    "l2 = [True, False, None]\n",
    "l3 = [\"s1\", \"s2\", \"s3\"]\n",
    "l4 = [[], [], [[], [], []]]\n",
    "\n",
    "l1.append(4)\n",
    "sorted(l1)\n",
    "\n",
    "def m(i):\n",
    "    return i*2\n",
    "\n",
    "l3 = list(map(m, l3))\n",
    "print(l3)\n",
    "\n",
    "lT = []\n",
    "for v in l3:\n",
    "    lT.append(m(v))\n",
    "l3 = lT\n",
    "print(l3)"
   ]
  },
  {
   "cell_type": "code",
   "execution_count": null,
   "metadata": {},
   "outputs": [],
   "source": [
    "f\"{l} ghg {v}\""
   ]
  },
  {
   "cell_type": "code",
   "execution_count": 94,
   "metadata": {},
   "outputs": [
    {
     "name": "stdout",
     "output_type": "stream",
     "text": "[4, 8, 12, 16, 20, 24, 28, 32, 36, 40, 44, 48, 52, 56, 60, 64, 68, 72, 76, 80, 84, 88, 92, 96, 100, 104, 108, 112, 116, 120, 124, 128, 132, 136, 140, 144, 148, 152, 156, 160, 164, 168, 172, 176, 180, 184, 188, 192, 196]\n"
    }
   ],
   "source": [
    "list1 = [x*2 for x in range(1, 100) if x % 2 == 0]\n",
    "print(list1)"
   ]
  },
  {
   "cell_type": "code",
   "execution_count": 96,
   "metadata": {},
   "outputs": [
    {
     "name": "stdout",
     "output_type": "stream",
     "text": "{1: 2, 2: 4, 3: 6, 4: 8, 5: 10, 6: 12, 7: 14, 8: 16, 9: 18}\n"
    }
   ],
   "source": [
    "dict1 = {x: x*2 for x in range(1, 10)}\n",
    "print(dict1)"
   ]
  },
  {
   "cell_type": "code",
   "execution_count": 98,
   "metadata": {},
   "outputs": [
    {
     "name": "stdout",
     "output_type": "stream",
     "text": "{'dummy': 2, 'string!': 1}\n"
    }
   ],
   "source": [
    "uStr = input(\"Your string: \")\n",
    "lStr = uStr.split(\" \")\n",
    "dStr = {i: lStr.count(i) for i in set(lStr)}\n",
    "print(dStr)"
   ]
  },
  {
   "cell_type": "code",
   "execution_count": 104,
   "metadata": {},
   "outputs": [
    {
     "name": "stdout",
     "output_type": "stream",
     "text": "{'key1': 'Value 1'}\n0\n"
    }
   ],
   "source": [
    "d1 = {}\n",
    "d1[\"key1\"] = \"Value 1\"\n",
    "print(d1)\n",
    "\n",
    "dKey = \"key2\"\n",
    "if dKey in d1:\n",
    "    print(d1[dKey])\n",
    "print(d1.get(dKey, 0))"
   ]
  },
  {
   "cell_type": "code",
   "execution_count": 55,
   "metadata": {},
   "outputs": [
    {
     "name": "stdout",
     "output_type": "stream",
     "text": "[1, 4, 2, 3]\n"
    }
   ],
   "source": [
    "for item in l1:\n",
    "    print(item*2)\n",
    "    item += 1\n",
    "print(l1)"
   ]
  },
  {
   "cell_type": "code",
   "execution_count": 112,
   "metadata": {},
   "outputs": [
    {
     "name": "stdout",
     "output_type": "stream",
     "text": "1\n((1, 1), (2, 4), (3, 9), (4, 16), (5, 25), (6, 36), (7, 49), (8, 64), (9, 81), (10, 100))\n"
    }
   ],
   "source": [
    "x = 1\n",
    "print(x)\n",
    "d = tuple((i,i*i) for i in range(1, 11))\n",
    "print(d)"
   ]
  },
  {
   "cell_type": "code",
   "execution_count": 50,
   "metadata": {},
   "outputs": [
    {
     "name": "stdout",
     "output_type": "stream",
     "text": "[1, 4, 2, 3]\n[1, 2, 3, 4]\n"
    }
   ],
   "source": [
    "import random\n",
    "random.shuffle(l1)\n",
    "print(l1)\n",
    "\n",
    "print(sorted(l1))"
   ]
  },
  {
   "cell_type": "code",
   "execution_count": 19,
   "metadata": {},
   "outputs": [
    {
     "name": "stdout",
     "output_type": "stream",
     "text": "<class 'tuple'>\n(2, 3)\n"
    }
   ],
   "source": [
    "c1 = (2, 3)\n",
    "print(type(c1))\n",
    "print(c1)"
   ]
  },
  {
   "cell_type": "code",
   "execution_count": 26,
   "metadata": {},
   "outputs": [
    {
     "name": "stdout",
     "output_type": "stream",
     "text": "Male\n"
    }
   ],
   "source": [
    "params = [\n",
    "    (\"M\", \"Male\"),\n",
    "    (\"F\", \"Female\")\n",
    "]\n",
    "print(params[0][1])"
   ]
  },
  {
   "cell_type": "code",
   "execution_count": 28,
   "metadata": {},
   "outputs": [
    {
     "name": "stdout",
     "output_type": "stream",
     "text": "{1, 2}\n"
    }
   ],
   "source": [
    "set1 = {1, 2, 1, 2}\n",
    "print(set1)"
   ]
  },
  {
   "cell_type": "code",
   "execution_count": 105,
   "metadata": {},
   "outputs": [
    {
     "name": "stdout",
     "output_type": "stream",
     "text": "[20, 12, 242, 20, 12, 20, 20, 20, 20]\n[242, 20, 12]\n1\n"
    }
   ],
   "source": [
    "list1 = [20, 12, 242, 20, 12, 20, 20, 20, 20]\n",
    "print(list1)\n",
    "set2 = set(list1)\n",
    "list1 = list(set2)\n",
    "print(list1)\n",
    "print(list1.index(20))"
   ]
  },
  {
   "cell_type": "code",
   "execution_count": 40,
   "metadata": {},
   "outputs": [
    {
     "name": "stdout",
     "output_type": "stream",
     "text": "<class 'set'>\n"
    }
   ],
   "source": [
    "set2.add(10)\n",
    "set2.add(10)\n",
    "set2.add(10)\n",
    "set3 = {23, 23}\n",
    "print(type(set3))"
   ]
  },
  {
   "cell_type": "code",
   "execution_count": 15,
   "metadata": {},
   "outputs": [
    {
     "data": {
      "text/plain": "[1, 2, 3]"
     },
     "execution_count": 15,
     "metadata": {},
     "output_type": "execute_result"
    }
   ],
   "source": [
    "l1[0]\n",
    "l2[1]\n",
    "l3[-1]\n",
    "l1[0:len(l1)]"
   ]
  },
  {
   "cell_type": "code",
   "execution_count": 8,
   "metadata": {},
   "outputs": [
    {
     "data": {
      "text/plain": "0"
     },
     "execution_count": 8,
     "metadata": {},
     "output_type": "execute_result"
    }
   ],
   "source": [
    "len(l4[1])"
   ]
  },
  {
   "cell_type": "code",
   "execution_count": 86,
   "metadata": {},
   "outputs": [
    {
     "data": {
      "text/plain": "{1: 'value 1', 2: 'value 2'}"
     },
     "execution_count": 86,
     "metadata": {},
     "output_type": "execute_result"
    }
   ],
   "source": [
    "dict(zip([1, 2], [\"value 1\", \"value 2\"]))\n",
    "    # print(v)"
   ]
  },
  {
   "cell_type": "code",
   "execution_count": 81,
   "metadata": {},
   "outputs": [
    {
     "name": "stdout",
     "output_type": "stream",
     "text": "{ 'key1': 'value 2',\n  'key2': 'value 2',\n  'key3': 'value 3',\n  'key4': 'value 4',\n  'key5': 'value 5',\n  'key6': 'value 6',\n  'key7': { 'key1': 'value 2',\n            'key2': 'value 2',\n            'key3': 'value 3',\n            'key4': 'value 4',\n            'key5': 'value 5',\n            'key6': 'value 6',\n            'key7': { 'key1': 'value 2',\n                      'key2': 'value 2',\n                      'key3': 'value 3',\n                      'key4': 'value 4',\n                      'key5': 'value 5',\n                      'key6': 'value 6',\n                      'key7': { 'key1': 'value 2',\n                                'key2': 'value 2',\n                                'key3': 'value 3'}}}}\n"
    }
   ],
   "source": [
    "d1 = {}\n",
    "d2 = dict()\n",
    "d3 = dict(key1=\"value 2\", key2=\"value 2\", key3=\"value 3\", key4=\"value 4\", key5=\"value 5\", key6=\"value 6\", key7=dict(key1=\"value 2\", key2=\"value 2\", key3=\"value 3\", key4=\"value 4\", key5=\"value 5\", key6=\"value 6\", key7=dict(key1=\"value 2\", key2=\"value 2\", key3=\"value 3\", key4=\"value 4\", key5=\"value 5\", key6=\"value 6\", key7=dict(key1=\"value 2\", key2=\"value 2\", key3=\"value 3\"))))\n",
    "\n",
    "import pprint\n",
    "\n",
    "# help(pprint.pprint)\n",
    "pprint.pprint(d3, indent=2)"
   ]
  },
  {
   "cell_type": "code",
   "execution_count": 68,
   "metadata": {},
   "outputs": [
    {
     "name": "stdout",
     "output_type": "stream",
     "text": "{'key1': 'value 1value 1', 'key2': 'value 2value 2'}\n{'key1': None, 'key2': 'value 2value 2', 'key3': 'value 3'}\n"
    }
   ],
   "source": [
    "d1 = {\n",
    "    (1, 1): \"Value 1\",\n",
    "    (1, 0): \"Value 1\"\n",
    "}\n",
    "\n",
    "# print(d1)\n",
    "\n",
    "d2 = {\"key1\": \"value 1\", \"key2\": \"value 2\"}\n",
    "\n",
    "for k in d2:\n",
    "    d2[k] *= 2\n",
    "\n",
    "print(d2)\n",
    "d2.update({\"key3\": \"value 3\", \"key1\": None})\n",
    "print(d2)"
   ]
  }
 ]
}