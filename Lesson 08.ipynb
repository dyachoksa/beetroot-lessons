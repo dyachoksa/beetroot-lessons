{
 "metadata": {
  "language_info": {
   "codemirror_mode": {
    "name": "ipython",
    "version": 3
   },
   "file_extension": ".py",
   "mimetype": "text/x-python",
   "name": "python",
   "nbconvert_exporter": "python",
   "pygments_lexer": "ipython3",
   "version": "3.9.1-final"
  },
  "orig_nbformat": 2,
  "kernelspec": {
   "name": "python3",
   "display_name": "Python 3",
   "language": "python"
  }
 },
 "nbformat": 4,
 "nbformat_minor": 2,
 "cells": [
  {
   "cell_type": "code",
   "execution_count": 1,
   "metadata": {},
   "outputs": [
    {
     "output_type": "error",
     "ename": "IndexError",
     "evalue": "list index out of range",
     "traceback": [
      "\u001b[1;31m---------------------------------------------------------------------------\u001b[0m",
      "\u001b[1;31mIndexError\u001b[0m                                Traceback (most recent call last)",
      "\u001b[1;32m<ipython-input-1-4b4f96725fe3>\u001b[0m in \u001b[0;36m<module>\u001b[1;34m\u001b[0m\n\u001b[0;32m      1\u001b[0m \u001b[0ma_list\u001b[0m \u001b[1;33m=\u001b[0m \u001b[1;33m[\u001b[0m\u001b[1;34m\"Hello\"\u001b[0m\u001b[1;33m,\u001b[0m \u001b[1;34m\"World\"\u001b[0m\u001b[1;33m]\u001b[0m\u001b[1;33m\u001b[0m\u001b[1;33m\u001b[0m\u001b[0m\n\u001b[1;32m----> 2\u001b[1;33m \u001b[0mprint\u001b[0m\u001b[1;33m(\u001b[0m\u001b[0ma_list\u001b[0m\u001b[1;33m[\u001b[0m\u001b[1;36m2\u001b[0m\u001b[1;33m]\u001b[0m\u001b[1;33m)\u001b[0m\u001b[1;33m\u001b[0m\u001b[1;33m\u001b[0m\u001b[0m\n\u001b[0m",
      "\u001b[1;31mIndexError\u001b[0m: list index out of range"
     ]
    }
   ],
   "source": [
    "a_list = [\"Hello\", \"World\"]\n",
    "print(a_list[2])"
   ]
  },
  {
   "cell_type": "code",
   "execution_count": 7,
   "metadata": {},
   "outputs": [
    {
     "output_type": "stream",
     "name": "stdout",
     "text": [
      "There is an error!\nDone\n"
     ]
    }
   ],
   "source": [
    "try:\n",
    "    a_dict = {\"a\": \"b\"}\n",
    "    print(a_dict[\"c\"])\n",
    "except KeyError:\n",
    "    print(\"There is an error!\")\n",
    "\n",
    "print(\"Done\")"
   ]
  },
  {
   "cell_type": "code",
   "execution_count": 12,
   "metadata": {},
   "outputs": [
    {
     "output_type": "stream",
     "name": "stdout",
     "text": [
      "Key error\n"
     ]
    }
   ],
   "source": [
    "a_dict = {}\n",
    "a_list = []\n",
    "\n",
    "def print_value(item, key_or_index):\n",
    "    print(item[key_or_index])\n",
    "\n",
    "try:\n",
    "    # print(a_dict[\"c\"])\n",
    "    # print(a_list[1])\n",
    "    # 1 / 0\n",
    "    print_value(a_dict, \"b\")\n",
    "except KeyError:\n",
    "    print(\"Key error\")\n",
    "except IndexError:\n",
    "    print(\"Index error\")\n",
    "except:\n",
    "    print(\"Unknown error\")"
   ]
  },
  {
   "cell_type": "code",
   "execution_count": 13,
   "metadata": {},
   "outputs": [
    {
     "output_type": "stream",
     "name": "stdout",
     "text": [
      "Key or index error\n"
     ]
    }
   ],
   "source": [
    "def print_value(item, key_or_index):\n",
    "    if key_or_index not in item:\n",
    "        return False\n",
    "\n",
    "    print(item[key_or_index])\n",
    "    return True\n",
    "\n",
    "a_dict = {}\n",
    "result = print_value(a_dict, \"b\")\n",
    "if not result:\n",
    "    print(\"Key or index error\")\n"
   ]
  },
  {
   "cell_type": "code",
   "execution_count": 22,
   "metadata": {},
   "outputs": [
    {
     "output_type": "stream",
     "name": "stdout",
     "text": [
      "Openning file...\nWorking with file...\nZeroDivisionError!\nClosing file...\nDone\n"
     ]
    }
   ],
   "source": [
    "try:\n",
    "    print(\"Openning file...\")\n",
    "    print(\"Working with file...\")\n",
    "    1 / 0\n",
    "    print(\"End of file\")\n",
    "except ZeroDivisionError:\n",
    "    print(\"ZeroDivisionError!\")\n",
    "except KeyError:\n",
    "    print(\"KeyError!\")\n",
    "finally:\n",
    "    print(\"Closing file...\")\n",
    "    print(\"Done\")"
   ]
  },
  {
   "cell_type": "code",
   "execution_count": 28,
   "metadata": {},
   "outputs": [
    {
     "output_type": "stream",
     "name": "stdout",
     "text": [
      "0\n1\n2\n3\n4\n5\n6\n7\n8\n9\nDone\n"
     ]
    }
   ],
   "source": [
    "for i in range(10):\n",
    "    print(i)\n",
    "    # if i == 2:\n",
    "    #     break\n",
    "else:\n",
    "    print(\"Done\")"
   ]
  },
  {
   "cell_type": "code",
   "execution_count": 29,
   "metadata": {},
   "outputs": [
    {
     "output_type": "stream",
     "name": "stdout",
     "text": [
      "Doing something useful...\nDone without errors!\n"
     ]
    }
   ],
   "source": [
    "try:\n",
    "    print(\"Doing something useful...\")\n",
    "    # 1 / 0\n",
    "except:\n",
    "    print(\"Error!\")\n",
    "else:\n",
    "    print(\"Done without errors!\")"
   ]
  },
  {
   "cell_type": "code",
   "execution_count": 30,
   "metadata": {},
   "outputs": [
    {
     "output_type": "error",
     "ename": "ValueError",
     "evalue": "Too short string",
     "traceback": [
      "\u001b[1;31m---------------------------------------------------------------------------\u001b[0m",
      "\u001b[1;31mValueError\u001b[0m                                Traceback (most recent call last)",
      "\u001b[1;32m<ipython-input-30-726be27ea33d>\u001b[0m in \u001b[0;36m<module>\u001b[1;34m\u001b[0m\n\u001b[1;32m----> 1\u001b[1;33m \u001b[1;32mraise\u001b[0m \u001b[0mValueError\u001b[0m\u001b[1;33m(\u001b[0m\u001b[1;34m\"Too short string\"\u001b[0m\u001b[1;33m)\u001b[0m\u001b[1;33m\u001b[0m\u001b[1;33m\u001b[0m\u001b[0m\n\u001b[0m",
      "\u001b[1;31mValueError\u001b[0m: Too short string"
     ]
    }
   ],
   "source": [
    "raise ValueError(\"Too short string\")"
   ]
  },
  {
   "cell_type": "code",
   "execution_count": 42,
   "metadata": {},
   "outputs": [
    {
     "output_type": "stream",
     "name": "stdout",
     "text": [
      "Bad string: String too long\n"
     ]
    }
   ],
   "source": [
    "def validate_string_length(value):\n",
    "    if len(value) > 5:\n",
    "        raise ValueError(\"String too long\")\n",
    "    return value\n",
    "\n",
    "def validate_string_content(value):\n",
    "    if not value.isalpha():\n",
    "        raise ValueError(\"String is not alpha\")\n",
    "    return value\n",
    "\n",
    "try:\n",
    "    value = input(\"Please enter a string: \")\n",
    "\n",
    "    validate_string_length(value)\n",
    "    validate_string_content(value)\n",
    "\n",
    "    print(\"String is correct.\")\n",
    "except ValueError as err:\n",
    "    print(\"Bad string:\", err)"
   ]
  },
  {
   "cell_type": "code",
   "execution_count": null,
   "metadata": {},
   "outputs": [],
   "source": []
  }
 ]
}