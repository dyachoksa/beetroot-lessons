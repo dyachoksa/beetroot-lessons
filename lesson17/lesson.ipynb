{
 "nbformat": 4,
 "nbformat_minor": 2,
 "metadata": {
  "language_info": {
   "name": "python",
   "codemirror_mode": {
    "name": "ipython",
    "version": 3
   },
   "version": "3.8.2-final"
  },
  "orig_nbformat": 2,
  "file_extension": ".py",
  "mimetype": "text/x-python",
  "name": "python",
  "npconvert_exporter": "python",
  "pygments_lexer": "ipython3",
  "version": 3,
  "kernelspec": {
   "name": "python38164bitvenvvenvbc9c54e4b03748299873c01fdd6cefaf",
   "display_name": "Python 3.8.1 64-bit ('.venv': venv)"
  }
 },
 "cells": [
  {
   "cell_type": "code",
   "execution_count": 7,
   "metadata": {},
   "outputs": [
    {
     "output_type": "stream",
     "name": "stdout",
     "text": "6\n"
    }
   ],
   "source": [
    "from calculator import Calculator\n",
    "\n",
    "calc = Calculator()\n",
    "\n",
    "print(calc.sum(*[1, 2, 3]))"
   ]
  },
  {
   "cell_type": "code",
   "execution_count": 5,
   "metadata": {},
   "outputs": [
    {
     "output_type": "stream",
     "name": "stdout",
     "text": "[0, 2, 4]\n"
    }
   ],
   "source": [
    "def in_range(start, end=None, step=1):\n",
    "    if step == 0:\n",
    "        raise ValueError\n",
    "\n",
    "    range_end = end\n",
    "    range_start = start\n",
    "    if end is None:\n",
    "        range_start = 0\n",
    "        range_end = start\n",
    "\n",
    "    while range_start < range_end:\n",
    "        yield range_start\n",
    "        range_start += step\n",
    "\n",
    "print(list(in_range(5, step=2)))"
   ]
  },
  {
   "cell_type": "code",
   "execution_count": 2,
   "metadata": {},
   "outputs": [
    {
     "output_type": "stream",
     "name": "stdout",
     "text": "John - like ***\n"
    }
   ],
   "source": [
    "def stop_words(stop_list: list):\n",
    "    def inner(func):\n",
    "        def wrapper(*args, **kwargs):\n",
    "            res = func(*args, **kwargs)\n",
    "            res_str = ''\n",
    "            res_list = []\n",
    "            for word in res.split():\n",
    "                if word in stop_list:\n",
    "                    res_list.append(\"***\")\n",
    "                else:\n",
    "                    res_list.append(word)\n",
    "            \n",
    "            return \" \".join(res_list)\n",
    "        return wrapper\n",
    "\n",
    "    return inner\n",
    "\n",
    "\n",
    "@stop_words(['shit', 'test'])\n",
    "def create_slogan(name: str) -> str:\n",
    "    return f'{name} - like shit'\n",
    "\n",
    "print(create_slogan(\"John\"))\n",
    ""
   ]
  }
 ]
}