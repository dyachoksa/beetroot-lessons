{
 "metadata": {
  "language_info": {
   "codemirror_mode": {
    "name": "ipython",
    "version": 3
   },
   "file_extension": ".py",
   "mimetype": "text/x-python",
   "name": "python",
   "nbconvert_exporter": "python",
   "pygments_lexer": "ipython3",
   "version": "3.9.1-final"
  },
  "orig_nbformat": 2,
  "kernelspec": {
   "name": "python3",
   "display_name": "Python 3",
   "language": "python"
  }
 },
 "nbformat": 4,
 "nbformat_minor": 2,
 "cells": [
  {
   "cell_type": "code",
   "execution_count": 4,
   "metadata": {},
   "outputs": [
    {
     "output_type": "stream",
     "name": "stdout",
     "text": [
      "{}\n{}\n{'key1': 'Value 1', 'key2': 2, 'key3': None}\n"
     ]
    }
   ],
   "source": [
    "dict1 = {}\n",
    "dict2 = dict()\n",
    "dict3 = {\"key1\": \"Value 1\", \"key2\": 2, \"key3\": None}\n",
    "\n",
    "print(dict1)\n",
    "print(dict2)\n",
    "print(dict3)"
   ]
  },
  {
   "cell_type": "code",
   "execution_count": 6,
   "metadata": {},
   "outputs": [
    {
     "output_type": "stream",
     "name": "stdout",
     "text": [
      "{True: 'True Value', False: 'False Value', None: 'None Value'}\n{(1, 2): (1, 2), (2, 3): (2, 3)}\n"
     ]
    }
   ],
   "source": [
    "# True, False, None, 1, 3, \"key\", (\"tuple 1\", 2), KeyError - Can use\n",
    "# [1, 2], {1: \"1\", 2: \"2\"} - Can't use\n",
    "\n",
    "a_bool_dict = {True: \"True Value\", False: \"False Value\", None: \"None Value\"}\n",
    "print(a_bool_dict)\n",
    "\n",
    "a_tuple_dict = {(1, 2): (1, 2), (2, 3): (2, 3)}\n",
    "print(a_tuple_dict)"
   ]
  },
  {
   "cell_type": "code",
   "execution_count": 11,
   "metadata": {},
   "outputs": [
    {
     "output_type": "stream",
     "name": "stdout",
     "text": [
      "{ None: 'None Value',\n  False: 'False Value',\n  True: 'True Value'}\n"
     ]
    }
   ],
   "source": [
    "import pprint\n",
    "pprint.pprint(a_bool_dict, indent=2, width=30)"
   ]
  },
  {
   "cell_type": "code",
   "execution_count": 41,
   "metadata": {},
   "outputs": [
    {
     "output_type": "stream",
     "name": "stdout",
     "text": [
      "{'Sweden': {'area': 450000, 'capital': 'Stockholm', 'population': 10300000},\n 'Ukraine': {'area': None, 'capital': 'Kiev', 'population': 38000000}}\n"
     ]
    }
   ],
   "source": [
    "from pprint import pprint\n",
    "\n",
    "countries_list = [\"Ukraine\", \"Sweden\"]\n",
    "\n",
    "countries = {\"Ukraine\": {\"capital\": \"Kiev\", \"population\": 38_000_000, \"area\": None}}\n",
    "# pprint(countries)\n",
    "\n",
    "countries[\"Sweden\"] = {\"capital\": \"stockholm\", \"population\": 10_000_000, \"area\": 450_000}\n",
    "# pprint(countries)\n",
    "\n",
    "countries[None] = \"Should be removed\"\n",
    "del countries[None]\n",
    "# pprint(countries)\n",
    "\n",
    "countries[\"Sweden\"][\"population\"] = 10_300_000\n",
    "countries[\"Sweden\"][\"capital\"] = \"Stockholm\"\n",
    "pprint(countries)\n",
    "\n",
    "# pprint(countries[\"Sweden\"][\"language\"])"
   ]
  },
  {
   "cell_type": "code",
   "execution_count": 45,
   "metadata": {},
   "outputs": [
    {
     "output_type": "stream",
     "name": "stdout",
     "text": [
      "Swedish\n"
     ]
    }
   ],
   "source": [
    "sweden = countries[\"Sweden\"]\n",
    "\n",
    "sweden[\"language\"] = \"Swedish\"\n",
    "\n",
    "lang = None\n",
    "if \"language\" in sweden:\n",
    "    lang = sweden[\"language\"]\n",
    "else:\n",
    "    lang = \"English\"\n",
    "\n",
    "lang = sweden.get(\"language\", \"English\")\n",
    "print(lang)"
   ]
  },
  {
   "cell_type": "code",
   "execution_count": 34,
   "metadata": {},
   "outputs": [
    {
     "output_type": "stream",
     "name": "stdout",
     "text": [
      "Users page\nNone\nMain page\n"
     ]
    }
   ],
   "source": [
    "# / -> main_page()\n",
    "# /users -> users_page()\n",
    "main_page = lambda: print(\"Main page\")\n",
    "users_page = lambda: print(\"Users page\")\n",
    "\n",
    "routes = { \"/\": main_page, \"/users\": users_page }\n",
    "\n",
    "# http://mysite.com/users\n",
    "page_path = \"/users\"\n",
    "out = routes[page_path]()\n",
    "print(out)\n",
    "\n",
    "# http://mysite.com/\n",
    "page_path = \"/\"\n",
    "routes[page_path]()"
   ]
  },
  {
   "cell_type": "code",
   "execution_count": 26,
   "metadata": {},
   "outputs": [],
   "source": [
    "reports = {\"April\": [1, 2], \"May\": [2, 3]}"
   ]
  },
  {
   "cell_type": "code",
   "execution_count": 49,
   "metadata": {},
   "outputs": [
    {
     "output_type": "stream",
     "name": "stdout",
     "text": [
      "10 25 40 10 12 "
     ]
    }
   ],
   "source": [
    "numbers = [10, 25, 40, 10, 12]\n",
    "for number in numbers:\n",
    "    print(number, end=\" \")"
   ]
  },
  {
   "cell_type": "code",
   "execution_count": 57,
   "metadata": {},
   "outputs": [
    {
     "output_type": "stream",
     "name": "stdout",
     "text": [
      "Name: Ukraine Population: 38000000\nName: Sweden Population: 10300000\n\nName: Ukraine Population: 38000000\nName: Sweden Population: 10300000\n"
     ]
    }
   ],
   "source": [
    "for country in countries:\n",
    "    print(\"Name:\", country, \"Population:\", countries[country][\"population\"])\n",
    "\n",
    "print(\"\")\n",
    "\n",
    "for country_name, country_info in countries.items():\n",
    "    print(\"Name:\", country_name, \"Population:\", country_info[\"population\"])"
   ]
  },
  {
   "cell_type": "code",
   "execution_count": 55,
   "metadata": {},
   "outputs": [
    {
     "output_type": "stream",
     "name": "stdout",
     "text": [
      "H-e-l-l-o-"
     ]
    }
   ],
   "source": [
    "for letter in \"Hello\":\n",
    "    print(letter, end='-')"
   ]
  },
  {
   "cell_type": "code",
   "execution_count": 63,
   "metadata": {},
   "outputs": [
    {
     "output_type": "stream",
     "name": "stdout",
     "text": [
      "1+3+5+7+9+11+"
     ]
    }
   ],
   "source": [
    "# for(i = 0; i < 10; i++) {}\n",
    "for num in range(1, 12, 2):\n",
    "    print(num, end='+')"
   ]
  },
  {
   "cell_type": "code",
   "execution_count": 64,
   "metadata": {},
   "outputs": [
    {
     "output_type": "error",
     "ename": "NameError",
     "evalue": "name 'read' is not defined",
     "traceback": [
      "\u001b[1;31m---------------------------------------------------------------------------\u001b[0m",
      "\u001b[1;31mNameError\u001b[0m                                 Traceback (most recent call last)",
      "\u001b[1;32m<ipython-input-64-1cd857aa8849>\u001b[0m in \u001b[0;36m<module>\u001b[1;34m\u001b[0m\n\u001b[1;32m----> 1\u001b[1;33m \u001b[0mdata\u001b[0m \u001b[1;33m=\u001b[0m \u001b[0mread\u001b[0m\u001b[1;33m(\u001b[0m\u001b[0mnetwork_socket\u001b[0m\u001b[1;33m)\u001b[0m\u001b[1;33m\u001b[0m\u001b[1;33m\u001b[0m\u001b[0m\n\u001b[0m\u001b[0;32m      2\u001b[0m \u001b[1;32mwhile\u001b[0m \u001b[0mlen\u001b[0m\u001b[1;33m(\u001b[0m\u001b[0mdata\u001b[0m\u001b[1;33m)\u001b[0m \u001b[1;33m>\u001b[0m \u001b[1;36m0\u001b[0m\u001b[1;33m:\u001b[0m\u001b[1;33m\u001b[0m\u001b[1;33m\u001b[0m\u001b[0m\n\u001b[0;32m      3\u001b[0m     \u001b[1;31m# do something with data\u001b[0m\u001b[1;33m\u001b[0m\u001b[1;33m\u001b[0m\u001b[1;33m\u001b[0m\u001b[0m\n\u001b[0;32m      4\u001b[0m     \u001b[0mprint\u001b[0m\u001b[1;33m(\u001b[0m\u001b[0mdata\u001b[0m\u001b[1;33m)\u001b[0m\u001b[1;33m\u001b[0m\u001b[1;33m\u001b[0m\u001b[0m\n\u001b[0;32m      5\u001b[0m     \u001b[0mdata\u001b[0m \u001b[1;33m=\u001b[0m \u001b[0mread\u001b[0m\u001b[1;33m(\u001b[0m\u001b[0mnetwork_socket\u001b[0m\u001b[1;33m)\u001b[0m\u001b[1;33m\u001b[0m\u001b[1;33m\u001b[0m\u001b[0m\n",
      "\u001b[1;31mNameError\u001b[0m: name 'read' is not defined"
     ]
    }
   ],
   "source": [
    "data = read(network_socket)\n",
    "while len(data) > 0:\n",
    "    # do something with data\n",
    "    print(data)\n",
    "    data = read(network_socket)"
   ]
  },
  {
   "cell_type": "code",
   "execution_count": 69,
   "metadata": {},
   "outputs": [
    {
     "output_type": "stream",
     "name": "stdout",
     "text": [
      "[0, 2, 4, 6, 8, 10, 12, 14, 16, 18, 20, 22, 24, 26, 28, 30, 32, 34, 36, 38, 40, 42, 44, 46, 48, 50, 52, 54, 56, 58, 60, 62, 64, 66, 68, 70, 72, 74, 76, 78, 80, 82, 84, 86, 88, 90, 92, 94, 96, 98, 100, 102, 104, 106, 108, 110, 112, 114, 116, 118, 120, 122, 124, 126, 128, 130, 132, 134, 136, 138, 140, 142, 144, 146, 148, 150, 152, 154, 156, 158, 160, 162, 164, 166, 168, 170, 172, 174, 176, 178, 180, 182, 184, 186, 188, 190, 192, 194, 196, 198]\nTotal numbers: 100\n"
     ]
    }
   ],
   "source": [
    "# numbers = []\n",
    "# for num in range(100):\n",
    "#     numbers.append(num * 2)\n",
    "numbers = [x * 2 for x in range(100)]\n",
    "\n",
    "print(numbers)\n",
    "print(\"Total numbers:\", len(numbers))"
   ]
  },
  {
   "cell_type": "code",
   "execution_count": 72,
   "metadata": {},
   "outputs": [
    {
     "output_type": "stream",
     "name": "stdout",
     "text": [
      "[0, 2, 4, 6, 8, 10, 12, 14, 16, 18, 20, 22, 24, 26, 28, 30, 32, 34, 36, 38, 40, 42, 44, 46, 48, 50, 52, 54, 56, 58, 60, 62, 64, 66, 68, 70, 72, 74, 76, 78, 80, 82, 84, 86, 88, 90, 92, 94, 96, 98]\n"
     ]
    }
   ],
   "source": [
    "even_numbers = [x for x in range(100) if x % 2 == 0]\n",
    "\n",
    "# even_numbers = []\n",
    "# for num in range(100):\n",
    "#     if num % 2 == 0:\n",
    "#         even_numbers.append(num)\n",
    "\n",
    "print(even_numbers)"
   ]
  },
  {
   "cell_type": "code",
   "execution_count": 75,
   "metadata": {},
   "outputs": [
    {
     "output_type": "stream",
     "name": "stdout",
     "text": [
      "{'key-0': 0, 'key-1': 1, 'key-2': 4, 'key-3': 9, 'key-4': 16, 'key-5': 25, 'key-6': 36, 'key-7': 49, 'key-8': 64, 'key-9': 81}\nNumbers of elements: 10\n"
     ]
    }
   ],
   "source": [
    "double_numbers_dict = {f\"key-{x}\": x*x for x in range(10)}\n",
    "print(double_numbers_dict)\n",
    "print(\"Numbers of elements:\", len(double_numbers_dict))"
   ]
  },
  {
   "cell_type": "code",
   "execution_count": 81,
   "metadata": {},
   "outputs": [
    {
     "output_type": "stream",
     "name": "stdout",
     "text": [
      "{ 'test': { 'email': 'test@example.com',\n            'id': 2,\n            'username': 'test'},\n  'user': { 'email': 'user@example.com',\n            'id': 1,\n            'username': 'user'}}\n\n[ { 'email': 'user@example.com',\n    'id': 1,\n    'username': 'user'},\n  { 'email': 'test@example.com',\n    'id': 2,\n    'username': 'test'}]\n12\n"
     ]
    }
   ],
   "source": [
    "# record from db\n",
    "records = [[1, \"user\", \"user@example.com\"], [2, \"test\", \"test@example.com\"]]\n",
    "\n",
    "users = {u[1]: {\"id\": u[0], \"username\": u[1], \"email\": u[2]} for u in records}\n",
    "pprint(users, indent=2, width=30)\n",
    "\n",
    "# print \"\"\n",
    "print(\"\")\n",
    "\n",
    "users = [{\"id\": u[0], \"username\": u[1], \"email\": u[2]} for u in records]\n",
    "pprint(users, indent=2, width=30)\n",
    "\n",
    "і = 12\n",
    "print(і)"
   ]
  },
  {
   "cell_type": "code",
   "execution_count": 83,
   "metadata": {},
   "outputs": [],
   "source": [
    "# DB1\n",
    "users1 = {}\n",
    "# for user in users1:\n",
    "#     pass\n",
    "\n",
    "# DB2\n",
    "users2 = {}\n",
    "# for user in users2:\n",
    "#     pass\n",
    "\n",
    "# total\n",
    "users = {**users1, **users2}\n",
    "\n",
    "for user in users:\n",
    "    pass\n"
   ]
  },
  {
   "cell_type": "code",
   "execution_count": 5,
   "metadata": {},
   "outputs": [
    {
     "output_type": "stream",
     "name": "stdout",
     "text": [
      "2.5714285714285716\n2\n4\n18\n"
     ]
    }
   ],
   "source": [
    "print(18 / 7)\n",
    "print(18 // 7)\n",
    "print(18 % 7)\n",
    "print(7*2 + 4)"
   ]
  }
 ]
}