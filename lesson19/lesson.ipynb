{
 "nbformat": 4,
 "nbformat_minor": 2,
 "metadata": {
  "language_info": {
   "name": "python",
   "codemirror_mode": {
    "name": "ipython",
    "version": 3
   },
   "version": "3.8.2-final"
  },
  "orig_nbformat": 2,
  "file_extension": ".py",
  "mimetype": "text/x-python",
  "name": "python",
  "npconvert_exporter": "python",
  "pygments_lexer": "ipython3",
  "version": 3,
  "kernelspec": {
   "name": "python38164bitvenvvenvbc9c54e4b03748299873c01fdd6cefaf",
   "display_name": "Python 3.8.1 64-bit ('.venv': venv)"
  }
 },
 "cells": [
  {
   "cell_type": "code",
   "execution_count": 2,
   "metadata": {},
   "outputs": [
    {
     "output_type": "stream",
     "name": "stdout",
     "text": "Hello, World!\n\nI'm Python!\n"
    }
   ],
   "source": [
    "with open(\"data.txt\") as f:\n",
    "    data = f.read()\n",
    "\n",
    "print(data)"
   ]
  },
  {
   "cell_type": "code",
   "execution_count": 6,
   "metadata": {},
   "outputs": [],
   "source": [
    "import random"
   ]
  },
  {
   "cell_type": "code",
   "execution_count": 48,
   "metadata": {},
   "outputs": [],
   "source": [
    "class Database:\n",
    "    def __init__(self):\n",
    "        print(\"Database.__init__()\")\n",
    "    \n",
    "    def __enter__(self):\n",
    "        print(\"Database.__enter__()\")\n",
    "        self.connect()\n",
    "        self.begin_transaction()\n",
    "        \n",
    "        return self\n",
    "    \n",
    "    def __exit__(self, exc_type, exc_value, exc_traceback):\n",
    "        print(\"Database.__exit__()\")\n",
    "        if exc_value:\n",
    "            self.rollback_transaction()\n",
    "            print(exc_type, exc_value, exc_traceback)\n",
    "            raise exc_value\n",
    "\n",
    "        self.commit_transaction()\n",
    "\n",
    "    def connect(self):\n",
    "        print(\"Database.connect()\")\n",
    "    \n",
    "    def begin_transaction(self):\n",
    "        print(\"Database.begin_transaction()\")\n",
    "    \n",
    "    def commit_transaction(self):\n",
    "        print(\"Database.commit_transaction()\")\n",
    "    \n",
    "    def rollback_transaction(self):\n",
    "        print(\"Database.rollback_transaction()\")\n",
    "    \n",
    "    def execute_query(self):\n",
    "        print(\"Database.execute_query()\")\n",
    "\n",
    "        # if random.choice([True, False]):\n",
    "        if True:\n",
    "            raise ValueError(\"Cannot execute query\")"
   ]
  },
  {
   "cell_type": "code",
   "execution_count": 17,
   "metadata": {},
   "outputs": [
    {
     "output_type": "stream",
     "name": "stdout",
     "text": "Database.__init__()\nDatabase.connect()\nDatabase.begin_transaction()\nDatabase.execute_query()\nDatabase.rollback_transaction()\n"
    }
   ],
   "source": [
    "db = Database()\n",
    "\n",
    "db.connect()\n",
    "db.begin_transaction()\n",
    "\n",
    "try:\n",
    "    # ...\n",
    "    db.execute_query()\n",
    "except ValueError:\n",
    "    db.rollback_transaction()\n",
    "else:\n",
    "    db.commit_transaction()\n"
   ]
  },
  {
   "cell_type": "code",
   "execution_count": 49,
   "metadata": {},
   "outputs": [
    {
     "output_type": "stream",
     "name": "stderr",
     "text": "Err: ValueError('Cannot execute query')\nDatabase.__init__()\nDatabase.__enter__()\nDatabase.connect()\nDatabase.begin_transaction()\nInside context block\nDatabase.execute_query()\nDatabase.__exit__()\nDatabase.rollback_transaction()\n<class 'ValueError'> Cannot execute query <traceback object at 0x7f3648e1ed00>\nDone\n"
    }
   ],
   "source": [
    "import logging\n",
    "\n",
    "logger = logging.getLogger(__name__)\n",
    "\n",
    "try:\n",
    "    with Database() as db1:\n",
    "        print(\"Inside context block\")\n",
    "        db1.execute_query()\n",
    "except ValueError as err:\n",
    "    # with open(\"error.log\", \"w+\") as f:\n",
    "    #     f.writelines([str(err)])\n",
    "    logger.warn(\"Err: %r\", err)\n",
    "\n",
    "print(\"Done\")"
   ]
  },
  {
   "cell_type": "code",
   "execution_count": null,
   "metadata": {},
   "outputs": [],
   "source": []
  }
 ]
}