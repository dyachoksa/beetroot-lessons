{
 "metadata": {
  "language_info": {
   "codemirror_mode": {
    "name": "ipython",
    "version": 3
   },
   "file_extension": ".py",
   "mimetype": "text/x-python",
   "name": "python",
   "nbconvert_exporter": "python",
   "pygments_lexer": "ipython3",
   "version": "3.9.1-final"
  },
  "orig_nbformat": 2,
  "kernelspec": {
   "name": "python3",
   "display_name": "Python 3",
   "language": "python"
  }
 },
 "nbformat": 4,
 "nbformat_minor": 2,
 "cells": [
  {
   "cell_type": "code",
   "execution_count": 7,
   "metadata": {},
   "outputs": [
    {
     "output_type": "stream",
     "name": "stdout",
     "text": [
      "Hello, World!\n"
     ]
    }
   ],
   "source": [
    "def print_hello():\n",
    "    print(\"Hello, World!\")\n",
    "\n",
    "print_hello()"
   ]
  },
  {
   "cell_type": "code",
   "execution_count": 11,
   "metadata": {},
   "outputs": [
    {
     "output_type": "stream",
     "name": "stdout",
     "text": [
      "My name's Sergey\nMy name's 10\n"
     ]
    }
   ],
   "source": [
    "def print_name(name):\n",
    "    print(f\"My name's {name}\")\n",
    "\n",
    "print_name(\"Sergey\")\n",
    "print_name(10)"
   ]
  },
  {
   "cell_type": "code",
   "execution_count": 70,
   "metadata": {},
   "outputs": [
    {
     "output_type": "stream",
     "name": "stdout",
     "text": [
      "Hello, my name's Sergey and I'm 16\nHello, my name's Sergey and I'm 16\n"
     ]
    },
    {
     "output_type": "error",
     "ename": "TypeError",
     "evalue": "print_name_and_age() got multiple values for argument 'name'",
     "traceback": [
      "\u001b[1;31m---------------------------------------------------------------------------\u001b[0m",
      "\u001b[1;31mTypeError\u001b[0m                                 Traceback (most recent call last)",
      "\u001b[1;32m<ipython-input-70-4efdd6f5d832>\u001b[0m in \u001b[0;36m<module>\u001b[1;34m\u001b[0m\n\u001b[0;32m      6\u001b[0m \u001b[1;33m\u001b[0m\u001b[0m\n\u001b[0;32m      7\u001b[0m \u001b[0mprint_name_and_age\u001b[0m\u001b[1;33m(\u001b[0m\u001b[0mage\u001b[0m\u001b[1;33m=\u001b[0m\u001b[1;36m16\u001b[0m\u001b[1;33m,\u001b[0m \u001b[0mname\u001b[0m\u001b[1;33m=\u001b[0m\u001b[1;34m\"Sergey\"\u001b[0m\u001b[1;33m)\u001b[0m\u001b[1;33m\u001b[0m\u001b[1;33m\u001b[0m\u001b[0m\n\u001b[1;32m----> 8\u001b[1;33m \u001b[0mprint_name_and_age\u001b[0m\u001b[1;33m(\u001b[0m\u001b[1;36m16\u001b[0m\u001b[1;33m,\u001b[0m \u001b[0mname\u001b[0m\u001b[1;33m=\u001b[0m\u001b[1;34m\"Sergey\"\u001b[0m\u001b[1;33m)\u001b[0m\u001b[1;33m\u001b[0m\u001b[1;33m\u001b[0m\u001b[0m\n\u001b[0m\u001b[0;32m      9\u001b[0m \u001b[1;33m\u001b[0m\u001b[0m\n\u001b[0;32m     10\u001b[0m \u001b[1;31m# Data from REST API request or database\u001b[0m\u001b[1;33m\u001b[0m\u001b[1;33m\u001b[0m\u001b[1;33m\u001b[0m\u001b[0m\n",
      "\u001b[1;31mTypeError\u001b[0m: print_name_and_age() got multiple values for argument 'name'"
     ]
    }
   ],
   "source": [
    "def print_name_and_age(name, age):\n",
    "    print(\"Hello, my name's %s and I'm %d\" % (name, age))\n",
    "\n",
    "print_name_and_age(\"Sergey\", 16)\n",
    "# print_name_and_age(16, \"Sergey\") - will throw an error\n",
    "\n",
    "print_name_and_age(age=16, name=\"Sergey\")\n",
    "# print_name_and_age(16, name=\"Sergey\")\n",
    "\n",
    "# Data from REST API request or database\n",
    "data = {\"name\": \"Sergey\", \"age\": 16}\n",
    "print_name_and_age(**data)"
   ]
  },
  {
   "cell_type": "code",
   "execution_count": 24,
   "metadata": {},
   "outputs": [
    {
     "output_type": "stream",
     "name": "stdout",
     "text": [
      "12.0\n112.0\n0\n"
     ]
    }
   ],
   "source": [
    "def calculate_tax(amount):\n",
    "    if amount < 0:\n",
    "        return 0\n",
    "\n",
    "    tax = 0.12\n",
    "    return amount*tax\n",
    "\n",
    "amount100 = 100\n",
    "tax_amount = calculate_tax(amount100)\n",
    "print(tax_amount)\n",
    "print(tax_amount + amount100)\n",
    "\n",
    "# print(calculate_tax(amount))\n",
    "# print(calculate_tax(amount) + amount)\n",
    "\n",
    "print(calculate_tax(amount=-10))"
   ]
  },
  {
   "cell_type": "code",
   "execution_count": 30,
   "metadata": {},
   "outputs": [
    {
     "output_type": "stream",
     "name": "stdout",
     "text": [
      "12.0\n100\n"
     ]
    }
   ],
   "source": [
    "# BAD situation\n",
    "\n",
    "def calc_tax_bad():\n",
    "    global amount\n",
    "\n",
    "    tax = 0.12\n",
    "    amount = amount*tax\n",
    "\n",
    "amount = 100\n",
    "calc_tax_bad()\n",
    "tax_amount = amount\n",
    "amount = 100\n",
    "print(tax_amount)\n",
    "print(amount)\n"
   ]
  },
  {
   "cell_type": "code",
   "execution_count": 54,
   "metadata": {},
   "outputs": [
    {
     "output_type": "stream",
     "name": "stdout",
     "text": [
      "**Sergey** 10\n**Sergey** 10\n**Sergey**\n"
     ]
    }
   ],
   "source": [
    "def get_name(name):\n",
    "    return \"**{}**\".format(name)\n",
    "\n",
    "def get_length(value):\n",
    "    return len(value)\n",
    "\n",
    "def get_name_with_length(name):\n",
    "    formatted_name = get_name(name)\n",
    "    length = get_length(formatted_name)\n",
    "    \n",
    "    return formatted_name, length, False\n",
    "\n",
    "my_name = \"Sergey\"\n",
    "name_with_length = get_name_with_length(my_name)\n",
    "print(name_with_length[0], name_with_length[1])\n",
    "\n",
    "name, name_length, _ = get_name_with_length(my_name)\n",
    "print(name, name_length)\n",
    "\n",
    "name, _, _ = get_name_with_length(my_name)\n",
    "print(name)\n",
    "\n",
    "formatted_name = get_name(my_name)\n",
    "length = get_length(formatted_name)\n"
   ]
  },
  {
   "cell_type": "code",
   "execution_count": 55,
   "metadata": {},
   "outputs": [
    {
     "output_type": "stream",
     "name": "stdout",
     "text": [
      "Hello, World! You age is 1000000000.\nHello, Sergey! You age is 16.\nHello, Someone! You age is 10.\n"
     ]
    }
   ],
   "source": [
    "# def print_welcome_message(name):\n",
    "#     if name is None:\n",
    "#         print(\"Hello, World!\")\n",
    "#     else:\n",
    "#         print(f\"Hello, {name}!\")\n",
    "\n",
    "def print_welcome_message(name=\"World\", age=1_000_000_000):\n",
    "    print(f\"Hello, {name}! You age is {age}.\")\n",
    "\n",
    "print_welcome_message()\n",
    "print_welcome_message(age=16, name=\"Sergey\")\n",
    "print_welcome_message(name=\"Someone\", age=10)"
   ]
  },
  {
   "cell_type": "code",
   "execution_count": 76,
   "metadata": {},
   "outputs": [
    {
     "output_type": "stream",
     "name": "stdout",
     "text": [
      "150.45 USD\n50.50 EUR\n50.50 EUR\n50.50 EUR\n"
     ]
    }
   ],
   "source": [
    "def format_price(amount, currency=\"USD\", symbol=\"$\"):\n",
    "    return \"{:.2f} {}\".format(amount, currency)\n",
    "\n",
    "print(format_price(150.45454))\n",
    "print(format_price(50.5, \"EUR\"))\n",
    "print(format_price(50.5, currency=\"EUR\"))\n",
    "print(format_price(amount=50.5, currency=\"EUR\"))"
   ]
  },
  {
   "cell_type": "code",
   "execution_count": 67,
   "metadata": {},
   "outputs": [
    {
     "output_type": "stream",
     "name": "stdout",
     "text": [
      "\nSergey\nSergey, Oskar, Maria, Anders, Markus\nSergey - Oskar - Maria - Anders - Markus\n"
     ]
    }
   ],
   "source": [
    "def print_names(*args):\n",
    "    print(\", \".join(args))\n",
    "\n",
    "def print_names_with_sep(*args, sep=\", \"):\n",
    "    print(sep.join(args))\n",
    "\n",
    "print_names()\n",
    "print_names(\"Sergey\")\n",
    "print_names(\"Sergey\", \"Oskar\", \"Maria\", \"Anders\", \"Markus\")\n",
    "print_names_with_sep(\"Sergey\", \"Oskar\", \"Maria\", \"Anders\", \"Markus\", sep=\" - \")\n"
   ]
  },
  {
   "cell_type": "code",
   "execution_count": 72,
   "metadata": {},
   "outputs": [
    {
     "output_type": "stream",
     "name": "stdout",
     "text": [
      "('Sergey', 16)\n{'sep': ':', 'message': 'Welcome', 'res': False}\n"
     ]
    },
    {
     "output_type": "execute_result",
     "data": {
      "text/plain": [
       "'Success'"
      ]
     },
     "metadata": {},
     "execution_count": 72
    }
   ],
   "source": [
    "def print_anything(*args, **kwargs):\n",
    "    print(args)\n",
    "    print(kwargs)\n",
    "\n",
    "    return \"Success\"\n",
    "\n",
    "print_anything(\"Sergey\", 16, sep=\":\", message=\"Welcome\", res=False)"
   ]
  }
 ]
}