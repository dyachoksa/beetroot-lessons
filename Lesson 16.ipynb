{
 "metadata": {
  "language_info": {
   "codemirror_mode": {
    "name": "ipython",
    "version": 3
   },
   "file_extension": ".py",
   "mimetype": "text/x-python",
   "name": "python",
   "nbconvert_exporter": "python",
   "pygments_lexer": "ipython3",
   "version": "3.9.1-final"
  },
  "orig_nbformat": 2,
  "kernelspec": {
   "name": "python3",
   "display_name": "Python 3",
   "language": "python"
  }
 },
 "nbformat": 4,
 "nbformat_minor": 2,
 "cells": [
  {
   "cell_type": "code",
   "execution_count": 14,
   "metadata": {},
   "outputs": [
    {
     "output_type": "stream",
     "name": "stdout",
     "text": [
      "<class 'filter'>\n<class 'list'>\n<class 'list'>\n48\n184\n"
     ]
    }
   ],
   "source": [
    "import sys\n",
    "\n",
    "some_list = [1, 2, 3, 4, 5, 6, 10, 11, 12, 14, 18, 20, 22, 24, 25]\n",
    "\n",
    "it = filter(lambda x: x % 2 == 0, some_list)\n",
    "it_list = list(it)\n",
    "\n",
    "c_list = [x for x in range(5) if x % 2 == 0]\n",
    "\n",
    "# for num in it:\n",
    "#     print(num)\n",
    "\n",
    "print(type(it))\n",
    "print(type(it_list))\n",
    "print(type(c_list))\n",
    "\n",
    "print(sys.getsizeof(it))\n",
    "print(sys.getsizeof(it_list))\n",
    "\n",
    "# print(it)\n",
    "# print(dir(it))"
   ]
  },
  {
   "cell_type": "code",
   "execution_count": 48,
   "metadata": {},
   "outputs": [
    {
     "output_type": "stream",
     "name": "stdout",
     "text": [
      "[0, 2, 4, 6, 8, 10, 12, 14, 16, 18, 20, 22, 24, 26, 28, 30, 32, 34, 36, 38, 40, 42, 44, 46, 48]\n<class 'list'>\n312\n<generator object <genexpr> at 0x0000016B34863AC0>\n<class 'generator'>\n112\n"
     ]
    }
   ],
   "source": [
    "c_list = [x for x in range(50) if x % 2 == 0]\n",
    "g_list = (x for x in range(50) if x % 2 == 0)\n",
    "\n",
    "print(c_list)\n",
    "print(type(c_list))\n",
    "print(sys.getsizeof(c_list))\n",
    "\n",
    "print(g_list)\n",
    "print(type(g_list))\n",
    "print(sys.getsizeof(g_list))\n",
    "\n",
    "# for item in g_list:\n",
    "#     print(item)"
   ]
  },
  {
   "cell_type": "code",
   "execution_count": 25,
   "metadata": {},
   "outputs": [
    {
     "output_type": "stream",
     "name": "stdout",
     "text": [
      "<class 'range'>\n48\nFinished in 0.0728 secs\n"
     ]
    }
   ],
   "source": [
    "import time\n",
    "\n",
    "start_time = time.perf_counter()\n",
    "\n",
    "# iterations = [x for x in range(1_000_000)]\n",
    "iterations = range(1_000_000)\n",
    "print(type(iterations))\n",
    "\n",
    "for _ in iterations:\n",
    "    # Do something 1_000_000 times\n",
    "    pass\n",
    "\n",
    "print(sys.getsizeof(iterations))\n",
    "\n",
    "end_time = time.perf_counter()\n",
    "run_time = end_time - start_time\n",
    "\n",
    "print(f\"Finished in {run_time:.4f} secs\")"
   ]
  },
  {
   "cell_type": "code",
   "execution_count": 34,
   "metadata": {},
   "outputs": [
    {
     "output_type": "stream",
     "name": "stdout",
     "text": [
      "1 2 3 4 5 6 7 8 9 10 \n48\n"
     ]
    }
   ],
   "source": [
    "class Counter:\n",
    "    def __init__(self, start, end):\n",
    "        self.start = start\n",
    "        self.end = end\n",
    "        self.current = start\n",
    "    \n",
    "    def __iter__(self):\n",
    "        return self\n",
    "    \n",
    "    def __next__(self):\n",
    "        if self.current > self.end:\n",
    "            raise StopIteration()\n",
    "\n",
    "        self.current += 1\n",
    "        return self.current - 1\n",
    "\n",
    "counter = Counter(1, 10)\n",
    "\n",
    "for num in counter:\n",
    "    print(num, end=\" \")\n",
    "\n",
    "print(\"\")\n",
    "print(sys.getsizeof(counter))\n"
   ]
  },
  {
   "cell_type": "code",
   "execution_count": 41,
   "metadata": {},
   "outputs": [
    {
     "output_type": "stream",
     "name": "stdout",
     "text": [
      "1 2 3 4 5 6 7 8 9 10 \n<class 'generator'>\n112\n"
     ]
    }
   ],
   "source": [
    "def counter_generator(start, end):\n",
    "    while start <= end:\n",
    "        yield start\n",
    "        start += 1\n",
    "\n",
    "gen = counter_generator(1, 10)\n",
    "for num in gen:\n",
    "    print(num, end=\" \")        \n",
    "\n",
    "print(\"\")\n",
    "print(type(gen))\n",
    "print(sys.getsizeof(gen))"
   ]
  },
  {
   "cell_type": "code",
   "execution_count": 29,
   "metadata": {},
   "outputs": [
    {
     "output_type": "stream",
     "name": "stdout",
     "text": [
      "The Zen of Python, by Tim Peters\n\nBeautiful is better than ugly.\nExplicit is better than implicit.\nSimple is better than complex.\nComplex is better than complicated.\nFlat is better than nested.\nSparse is better than dense.\nReadability counts.\nSpecial cases aren't special enough to break the rules.\nAlthough practicality beats purity.\nErrors should never pass silently.\nUnless explicitly silenced.\nIn the face of ambiguity, refuse the temptation to guess.\nThere should be one-- and preferably only one --obvious way to do it.\nAlthough that way may not be obvious at first unless you're Dutch.\nNow is better than never.\nAlthough never is often better than *right* now.\nIf the implementation is hard to explain, it's a bad idea.\nIf the implementation is easy to explain, it may be a good idea.\nNamespaces are one honking great idea -- let's do more of those!\n"
     ]
    }
   ],
   "source": [
    "import this"
   ]
  }
 ]
}