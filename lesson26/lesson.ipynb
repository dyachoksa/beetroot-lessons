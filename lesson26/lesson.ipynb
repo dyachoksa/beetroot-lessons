{
 "nbformat": 4,
 "nbformat_minor": 2,
 "metadata": {
  "language_info": {
   "name": "python",
   "codemirror_mode": {
    "name": "ipython",
    "version": 3
   },
   "version": "3.8.2-final"
  },
  "orig_nbformat": 2,
  "file_extension": ".py",
  "mimetype": "text/x-python",
  "name": "python",
  "npconvert_exporter": "python",
  "pygments_lexer": "ipython3",
  "version": 3,
  "kernelspec": {
   "name": "python38232bitvenvvenv77a16bb511774f5c90771b464075e49f",
   "display_name": "Python 3.8.2 32-bit ('.venv': venv)"
  }
 },
 "cells": [
  {
   "cell_type": "code",
   "execution_count": 10,
   "metadata": {},
   "outputs": [
    {
     "output_type": "stream",
     "name": "stdout",
     "text": "Check\nCheck\nCheck\nCheck\nCheck\nCheck\nCheck\nFound\n"
    }
   ],
   "source": [
    "lst1 = [10, 15, 0, 5, -10, -3, 6]\n",
    "\n",
    "search_item = 6\n",
    "for item in lst1:\n",
    "    print(\"Check\")\n",
    "    if item == search_item:\n",
    "        print(\"Found\")\n",
    "        break\n",
    "else:\n",
    "    print(\"Not found\")\n",
    ""
   ]
  },
  {
   "cell_type": "code",
   "execution_count": 9,
   "metadata": {},
   "outputs": [
    {
     "output_type": "stream",
     "name": "stdout",
     "text": "[-10, -3, 0, 5, 6, 10, 15]\nCheck\nCheck\nCheck\nFound\n"
    }
   ],
   "source": [
    "search_item = 6\n",
    "lst1 = sorted([10, 15, 0, 5, -10, -3, 6])\n",
    "print(lst1)\n",
    "\n",
    "left, right = 0, len(lst1) - 1\n",
    "\n",
    "while left <= right:\n",
    "    print(\"Check\")\n",
    "    idx = (right + left) // 2\n",
    "    if lst1[idx] == search_item:\n",
    "        print(\"Found\")\n",
    "        break\n",
    "    \n",
    "    if search_item > lst1[idx]:\n",
    "        left = idx + 1\n",
    "    else:\n",
    "        right = idx - 1\n",
    "else:\n",
    "    print(\"Not found\")\n",
    ""
   ]
  },
  {
   "cell_type": "code",
   "execution_count": null,
   "metadata": {},
   "outputs": [],
   "source": []
  }
 ]
}