{
 "metadata": {
  "language_info": {
   "codemirror_mode": {
    "name": "ipython",
    "version": 3
   },
   "file_extension": ".py",
   "mimetype": "text/x-python",
   "name": "python",
   "nbconvert_exporter": "python",
   "pygments_lexer": "ipython3",
   "version": "3.9.1-final"
  },
  "orig_nbformat": 2,
  "kernelspec": {
   "name": "python3",
   "display_name": "Python 3",
   "language": "python"
  }
 },
 "nbformat": 4,
 "nbformat_minor": 2,
 "cells": [
  {
   "cell_type": "code",
   "execution_count": 14,
   "metadata": {},
   "outputs": [
    {
     "output_type": "stream",
     "name": "stdout",
     "text": [
      "H \nWrd Hl\n"
     ]
    }
   ],
   "source": [
    "import random\n",
    "\n",
    "text = \"Hello, World!\"\n",
    "\n",
    "print(\"H\" + text[random.randint(0, len(text)-1)])\n",
    "print(\"W\" + \"\".join(random.sample(text, 5)))"
   ]
  },
  {
   "cell_type": "code",
   "execution_count": 17,
   "metadata": {},
   "outputs": [
    {
     "output_type": "execute_result",
     "data": {
      "text/plain": [
       "False"
      ]
     },
     "metadata": {},
     "execution_count": 17
    }
   ],
   "source": [
    "number = 8\n",
    "print((number / 7) - (number // 7) == 0)\n",
    "print(number % 7 == 0)"
   ]
  },
  {
   "cell_type": "code",
   "execution_count": 25,
   "metadata": {},
   "outputs": [
    {
     "output_type": "execute_result",
     "data": {
      "text/plain": [
       "False"
      ]
     },
     "metadata": {},
     "execution_count": 25
    }
   ],
   "source": [
    "0 == 0.0000000000000000000000000000000001"
   ]
  },
  {
   "cell_type": "code",
   "execution_count": 1,
   "metadata": {},
   "outputs": [
    {
     "output_type": "stream",
     "name": "stdout",
     "text": [
      "Original: [93, 34, 77, 22, 18, 96, 78, 60, 87, 5]\nSorted: [5, 18, 22, 34, 60, 77, 78, 87, 93, 96]\nHighest number (sorted): 96\nHighest number (max): 96\nMin number (min): 5\n"
     ]
    }
   ],
   "source": [
    "import random\n",
    "\n",
    "a_list = []\n",
    "\n",
    "i = 0\n",
    "while i < 10:\n",
    "    i += 1\n",
    "    a_list.append(random.randrange(1, 101))\n",
    "\n",
    "sorted_list = sorted(a_list)\n",
    "\n",
    "print(\"Original:\", a_list)\n",
    "print(\"Sorted:\", sorted_list)\n",
    "print(\"Highest number (sorted):\", sorted_list[-1])\n",
    "print(\"Highest number (max):\", max(a_list))\n",
    "print(\"Min number (min):\", min(a_list))\n"
   ]
  }
 ]
}