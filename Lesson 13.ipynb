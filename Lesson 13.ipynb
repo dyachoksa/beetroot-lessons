{
 "metadata": {
  "language_info": {
   "codemirror_mode": {
    "name": "ipython",
    "version": 3
   },
   "file_extension": ".py",
   "mimetype": "text/x-python",
   "name": "python",
   "nbconvert_exporter": "python",
   "pygments_lexer": "ipython3",
   "version": "3.9.1-final"
  },
  "orig_nbformat": 2,
  "kernelspec": {
   "name": "python3",
   "display_name": "Python 3",
   "language": "python"
  }
 },
 "nbformat": 4,
 "nbformat_minor": 2,
 "cells": [
  {
   "cell_type": "code",
   "execution_count": 16,
   "metadata": {},
   "outputs": [
    {
     "output_type": "stream",
     "name": "stdout",
     "text": [
      "Initial value: 18\nDoubled value: 36\n"
     ]
    }
   ],
   "source": [
    "def double_value(value):\n",
    "    \"\"\"Returns passed argumend as a doubled value\"\"\"\n",
    "    return value * 2\n",
    "\n",
    "\n",
    "double_value.name = \"Double Value Function\"\n",
    "\n",
    "age = 18\n",
    "print(\"Initial value:\", age)\n",
    "\n",
    "age = double_value(age)\n",
    "print(\"Doubled value:\", age)"
   ]
  },
  {
   "cell_type": "code",
   "execution_count": 13,
   "metadata": {},
   "outputs": [
    {
     "output_type": "stream",
     "name": "stdout",
     "text": [
      "__class__: <class 'function'>\n__doc__: Returns passed argumend as a doubled value\n__name__: double_value\n__qualname__: double_value\n__annotations__: {}\n__repr__: <function double_value at 0x000001FDC136B940>\n"
     ]
    }
   ],
   "source": [
    "# print(dir(double_value))\n",
    "print(\"__class__:\", double_value.__class__)\n",
    "print(\"__doc__:\", double_value.__doc__)\n",
    "print(\"__name__:\", double_value.__name__)\n",
    "print(\"__qualname__:\", double_value.__qualname__)\n",
    "print(\"__annotations__:\", double_value.__annotations__)\n",
    "print(\"__repr__:\", repr(double_value))"
   ]
  },
  {
   "cell_type": "code",
   "execution_count": 14,
   "metadata": {},
   "outputs": [
    {
     "output_type": "stream",
     "name": "stdout",
     "text": [
      "Help on function double_value in module __main__:\n\ndouble_value(value)\n    Returns passed argumend as a doubled value\n\n"
     ]
    }
   ],
   "source": [
    "help(double_value)"
   ]
  },
  {
   "cell_type": "code",
   "execution_count": 17,
   "metadata": {},
   "outputs": [
    {
     "output_type": "stream",
     "name": "stdout",
     "text": [
      "Double Value Function\n"
     ]
    }
   ],
   "source": [
    "print(double_value.name)"
   ]
  },
  {
   "cell_type": "code",
   "execution_count": 18,
   "metadata": {},
   "outputs": [],
   "source": [
    "def apply_func(func, value):\n",
    "    if value is None:\n",
    "        raise ValueError(\"None value is not allowed\")\n",
    "\n",
    "    return func(value)"
   ]
  },
  {
   "cell_type": "code",
   "execution_count": 19,
   "metadata": {},
   "outputs": [
    {
     "output_type": "stream",
     "name": "stdout",
     "text": [
      "Original value: 10\nNew value: 20\n"
     ]
    }
   ],
   "source": [
    "length = 10\n",
    "print(\"Original value:\", length)\n",
    "print(\"New value:\", apply_func(double_value, length))"
   ]
  },
  {
   "cell_type": "code",
   "execution_count": 21,
   "metadata": {},
   "outputs": [
    {
     "output_type": "stream",
     "name": "stdout",
     "text": [
      "[20, 24, 8, 10, -6]\n"
     ]
    }
   ],
   "source": [
    "numbers = [10, 12, 4, 5, -3]\n",
    "result = list(map(double_value, numbers))\n",
    "print(result)"
   ]
  },
  {
   "cell_type": "code",
   "execution_count": 23,
   "metadata": {},
   "outputs": [
    {
     "output_type": "stream",
     "name": "stdout",
     "text": [
      "Original value: 11\nChanged value: 33\n"
     ]
    }
   ],
   "source": [
    "def scale_value_factory(scale):\n",
    "    def apply(value):\n",
    "        return scale * value\n",
    "    \n",
    "    return apply\n",
    "\n",
    "triple_value = scale_value_factory(3)\n",
    "\n",
    "# print(type(triple_value))\n",
    "\n",
    "number = 11\n",
    "print(\"Original value:\", number)\n",
    "print(\"Changed value:\", triple_value(number))"
   ]
  },
  {
   "cell_type": "code",
   "execution_count": 24,
   "metadata": {},
   "outputs": [
    {
     "output_type": "stream",
     "name": "stdout",
     "text": [
      "[30, 36, 12, 15, -9]\n"
     ]
    }
   ],
   "source": [
    "print(list(map(triple_value, numbers)))"
   ]
  },
  {
   "cell_type": "code",
   "execution_count": 28,
   "metadata": {},
   "outputs": [
    {
     "output_type": "stream",
     "name": "stdout",
     "text": [
      "[{'first_name': 'Ava', 'last_name': 'Crawford', 'email': 'ava.crawford@example.com', 'age': 18}, {'first_name': 'Edgar', 'last_name': 'Rivera', 'email': 'edgar.rivera@example.com', 'age': 24}, {'first_name': 'Noah', 'last_name': 'Porter', 'email': 'noah.porter@example.com', 'age': 17}]\n\n[{'first_name': 'Ava', 'last_name': 'Crawford', 'email': 'ava.crawford@example.com', 'age': 18}, {'first_name': 'Edgar', 'last_name': 'Rivera', 'email': 'edgar.rivera@example.com', 'age': 24}, {'first_name': 'Noah', 'last_name': 'Porter', 'email': 'noah.porter@example.com', 'age': 17}]\n\n[{'first_name': 'Noah', 'last_name': 'Porter', 'email': 'noah.porter@example.com', 'age': 17}, {'first_name': 'Ava', 'last_name': 'Crawford', 'email': 'ava.crawford@example.com', 'age': 18}, {'first_name': 'Edgar', 'last_name': 'Rivera', 'email': 'edgar.rivera@example.com', 'age': 24}]\n"
     ]
    }
   ],
   "source": [
    "employees = [\n",
    "    {\"first_name\": \"Ava\", \"last_name\": \"Crawford\", \"email\": \"ava.crawford@example.com\", \"age\": 18},\n",
    "    {\"first_name\": \"Edgar\", \"last_name\": \"Rivera\", \"email\": \"edgar.rivera@example.com\", \"age\": 24},\n",
    "    {\"first_name\": \"Noah\", \"last_name\": \"Porter\", \"email\": \"noah.porter@example.com\", \"age\": 17}\n",
    "]\n",
    "\n",
    "print(employees)\n",
    "\n",
    "def get_first_name(employee):\n",
    "    return employee[\"first_name\"]\n",
    "\n",
    "def get_age(employee):\n",
    "    return employee[\"age\"]\n",
    "\n",
    "print(\"\")\n",
    "print(list(sorted(employees, key=get_first_name)))\n",
    "\n",
    "print(\"\")\n",
    "print(list(sorted(employees, key=get_age)))"
   ]
  },
  {
   "cell_type": "code",
   "execution_count": 31,
   "metadata": {},
   "outputs": [
    {
     "output_type": "stream",
     "name": "stdout",
     "text": [
      "[30, 20, 50]\n"
     ]
    }
   ],
   "source": [
    "def add_10(value):\n",
    "    return value + 10\n",
    "\n",
    "def sub_5(value):\n",
    "    return value - 5\n",
    "\n",
    "processors = [add_10, sub_5, double_value]\n",
    "\n",
    "numbers = [10, 5, 20]\n",
    "\n",
    "result = []\n",
    "for number in numbers:\n",
    "    value = number\n",
    "    for func in processors:\n",
    "        value = func(value)\n",
    "    \n",
    "    result.append(value)\n",
    "\n",
    "print(result)"
   ]
  },
  {
   "cell_type": "code",
   "execution_count": null,
   "metadata": {},
   "outputs": [],
   "source": []
  }
 ]
}